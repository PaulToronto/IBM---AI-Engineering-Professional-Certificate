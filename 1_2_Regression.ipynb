{
  "nbformat": 4,
  "nbformat_minor": 0,
  "metadata": {
    "colab": {
      "provenance": [],
      "toc_visible": true,
      "authorship_tag": "ABX9TyPR2yKFbbRibonVueATmYiV",
      "include_colab_link": true
    },
    "kernelspec": {
      "name": "python3",
      "display_name": "Python 3"
    },
    "language_info": {
      "name": "python"
    }
  },
  "cells": [
    {
      "cell_type": "markdown",
      "metadata": {
        "id": "view-in-github",
        "colab_type": "text"
      },
      "source": [
        "<a href=\"https://colab.research.google.com/github/PaulToronto/IBM---AI-Engineering-Professional-Certificate/blob/main/1_2_Regression.ipynb\" target=\"_parent\"><img src=\"https://colab.research.google.com/assets/colab-badge.svg\" alt=\"Open In Colab\"/></a>"
      ]
    },
    {
      "cell_type": "markdown",
      "source": [
        "# 1.2 Regression"
      ],
      "metadata": {
        "id": "x6CACOwkHTSr"
      }
    },
    {
      "cell_type": "markdown",
      "source": [
        "## Imports"
      ],
      "metadata": {
        "id": "XLAhqKllPTNd"
      }
    },
    {
      "cell_type": "code",
      "source": [
        "import pandas as pd\n",
        "import matplotlib.pyplot as plt"
      ],
      "metadata": {
        "id": "WMqPJwwhPU_b"
      },
      "execution_count": 1,
      "outputs": []
    },
    {
      "cell_type": "markdown",
      "source": [
        "## 1.1.1 Linear Regression"
      ],
      "metadata": {
        "id": "eqizSYobqR90"
      }
    },
    {
      "cell_type": "markdown",
      "source": [
        "### 1.2.1.1 Introduction to Regression"
      ],
      "metadata": {
        "id": "NjjCwoyGHzF7"
      }
    },
    {
      "cell_type": "markdown",
      "source": [
        "#### What is regression?\n",
        "\n",
        "- **Regression** is the process of predicting a continuous value\n",
        "- Two types of variables\n",
        "    - **y**: dependent variable\n",
        "        - must be a continuous variable\n",
        "    - **X**: independent variable"
      ],
      "metadata": {
        "id": "suNyfE6DIB7B"
      }
    },
    {
      "cell_type": "markdown",
      "source": [
        "#### What is a regression model?\n",
        "\n",
        "- The model is used to make predictions\n",
        "- Two types:\n",
        "    1. Simple Regression\n",
        "        - One independent variable is used to predict a dependent variable\n",
        "        - Two types\n",
        "            - Simple Linear Regression\n",
        "            - Simple Non-linear Regression\n",
        "    2. Multiple Regression\n",
        "        - When more than one independent variable\n",
        "        - Two types:\n",
        "            - Multiple Linear Regresssion\n",
        "            - Multiple Non-linear Regression"
      ],
      "metadata": {
        "id": "orQIe-tOKByq"
      }
    },
    {
      "cell_type": "markdown",
      "source": [
        "#### Regression algorithms\n",
        "\n",
        "- Ordinal regression\n",
        "- Poisson regression\n",
        "- Fast forest quantile regression\n",
        "- Linear, Polynomial, Lasso, Stepwise, Ridge regression\n",
        "- Bayesian linear regression\n",
        "- Neural network regression\n",
        "- Decision forest regression\n",
        "- Boosted decision tree regression\n",
        "- KNN (K-nearest neighbours)"
      ],
      "metadata": {
        "id": "NQ9dSi03Lq3I"
      }
    },
    {
      "cell_type": "markdown",
      "source": [
        "### 1.2.1.2 Simple Linear Regression"
      ],
      "metadata": {
        "id": "LPiF712oMQEc"
      }
    },
    {
      "cell_type": "markdown",
      "source": [
        "#### Linear regression topology\n",
        "\n",
        "- Simple Linear Regression\n",
        "    - Predict `CO2EMISSION` vs. `ENGINESIZE` of all cars\n",
        "        - Independent variable (x): `ENGINESIZE`\n",
        "        - Dependent variable (y): `CO2EMISSION`\n",
        "- Multiple Linear Regression\n",
        "    - Predict `CO2EMISSION` vs. `ENGINESIZE` and `CYLINDERS` of all cars\n",
        "        - Indpependent variable (X): `ENGINESIZE`, `CYLINDERS`, etc\n",
        "        - Dependent variable (y): `CO2EMISSION`"
      ],
      "metadata": {
        "id": "NCla3pUQMs8y"
      }
    },
    {
      "cell_type": "markdown",
      "source": [
        "#### Prediction\n",
        "\n",
        "The fit line is shown traditionally as a polynomial:\n",
        "\n",
        "$$\n",
        "\\widehat{y} = \\theta_{0} + \\theta_{1}x_{1}\n",
        "$$\n",
        "\n",
        "- $\\widehat{y}$ is the predicted value\n",
        "- $\\theta_{0}$ and $\\theta_{1}$ are the coefficients of the linear equation\n",
        "- linear regression calculates the coefficients to find the best line to fit the data\n",
        "- the residual error:\n",
        "\n",
        "$$\n",
        "Error = y - \\widehat{y}\n",
        "$$\n",
        "\n",
        "- Mean Squared Error\n",
        "$$\n",
        "MSE = \\frac{1}{n}\\sum\\left(y_{i} - \\widehat{y}_{i}\\right)^{2}\n",
        "$$\n",
        "\n",
        "- The objective is to find the line where the MSE is minimizied\n",
        "- There are two options to do this\n",
        " 1. A mathematical approach\n",
        " 2. An optimization approach"
      ],
      "metadata": {
        "id": "RrJwYUlyS8_s"
      }
    },
    {
      "cell_type": "code",
      "source": [
        "data_url = 'https://cf-courses-data.s3.us.cloud-object-storage.appdomain.cloud/'\n",
        "data_url += 'IBMDeveloperSkillsNetwork-ML0101EN-SkillsNetwork/'\n",
        "data_url += 'labs/Module%202/data/FuelConsumptionCo2.csv'\n",
        "\n",
        "data = pd.read_csv(data_url)\n",
        "data"
      ],
      "metadata": {
        "colab": {
          "base_uri": "https://localhost:8080/",
          "height": 583
        },
        "id": "XZnSi0XRPYRm",
        "outputId": "8c989a40-a0b2-4e64-a598-96d0dac715c5"
      },
      "execution_count": 2,
      "outputs": [
        {
          "output_type": "execute_result",
          "data": {
            "text/plain": [
              "      MODELYEAR   MAKE       MODEL    VEHICLECLASS  ENGINESIZE  CYLINDERS  \\\n",
              "0          2014  ACURA         ILX         COMPACT         2.0          4   \n",
              "1          2014  ACURA         ILX         COMPACT         2.4          4   \n",
              "2          2014  ACURA  ILX HYBRID         COMPACT         1.5          4   \n",
              "3          2014  ACURA     MDX 4WD     SUV - SMALL         3.5          6   \n",
              "4          2014  ACURA     RDX AWD     SUV - SMALL         3.5          6   \n",
              "...         ...    ...         ...             ...         ...        ...   \n",
              "1062       2014  VOLVO    XC60 AWD     SUV - SMALL         3.0          6   \n",
              "1063       2014  VOLVO    XC60 AWD     SUV - SMALL         3.2          6   \n",
              "1064       2014  VOLVO    XC70 AWD     SUV - SMALL         3.0          6   \n",
              "1065       2014  VOLVO    XC70 AWD     SUV - SMALL         3.2          6   \n",
              "1066       2014  VOLVO    XC90 AWD  SUV - STANDARD         3.2          6   \n",
              "\n",
              "     TRANSMISSION FUELTYPE  FUELCONSUMPTION_CITY  FUELCONSUMPTION_HWY  \\\n",
              "0             AS5        Z                   9.9                  6.7   \n",
              "1              M6        Z                  11.2                  7.7   \n",
              "2             AV7        Z                   6.0                  5.8   \n",
              "3             AS6        Z                  12.7                  9.1   \n",
              "4             AS6        Z                  12.1                  8.7   \n",
              "...           ...      ...                   ...                  ...   \n",
              "1062          AS6        X                  13.4                  9.8   \n",
              "1063          AS6        X                  13.2                  9.5   \n",
              "1064          AS6        X                  13.4                  9.8   \n",
              "1065          AS6        X                  12.9                  9.3   \n",
              "1066          AS6        X                  14.9                 10.2   \n",
              "\n",
              "      FUELCONSUMPTION_COMB  FUELCONSUMPTION_COMB_MPG  CO2EMISSIONS  \n",
              "0                      8.5                        33           196  \n",
              "1                      9.6                        29           221  \n",
              "2                      5.9                        48           136  \n",
              "3                     11.1                        25           255  \n",
              "4                     10.6                        27           244  \n",
              "...                    ...                       ...           ...  \n",
              "1062                  11.8                        24           271  \n",
              "1063                  11.5                        25           264  \n",
              "1064                  11.8                        24           271  \n",
              "1065                  11.3                        25           260  \n",
              "1066                  12.8                        22           294  \n",
              "\n",
              "[1067 rows x 13 columns]"
            ],
            "text/html": [
              "\n",
              "  <div id=\"df-74d65f9a-2486-428a-bb3d-0d235c0dd544\" class=\"colab-df-container\">\n",
              "    <div>\n",
              "<style scoped>\n",
              "    .dataframe tbody tr th:only-of-type {\n",
              "        vertical-align: middle;\n",
              "    }\n",
              "\n",
              "    .dataframe tbody tr th {\n",
              "        vertical-align: top;\n",
              "    }\n",
              "\n",
              "    .dataframe thead th {\n",
              "        text-align: right;\n",
              "    }\n",
              "</style>\n",
              "<table border=\"1\" class=\"dataframe\">\n",
              "  <thead>\n",
              "    <tr style=\"text-align: right;\">\n",
              "      <th></th>\n",
              "      <th>MODELYEAR</th>\n",
              "      <th>MAKE</th>\n",
              "      <th>MODEL</th>\n",
              "      <th>VEHICLECLASS</th>\n",
              "      <th>ENGINESIZE</th>\n",
              "      <th>CYLINDERS</th>\n",
              "      <th>TRANSMISSION</th>\n",
              "      <th>FUELTYPE</th>\n",
              "      <th>FUELCONSUMPTION_CITY</th>\n",
              "      <th>FUELCONSUMPTION_HWY</th>\n",
              "      <th>FUELCONSUMPTION_COMB</th>\n",
              "      <th>FUELCONSUMPTION_COMB_MPG</th>\n",
              "      <th>CO2EMISSIONS</th>\n",
              "    </tr>\n",
              "  </thead>\n",
              "  <tbody>\n",
              "    <tr>\n",
              "      <th>0</th>\n",
              "      <td>2014</td>\n",
              "      <td>ACURA</td>\n",
              "      <td>ILX</td>\n",
              "      <td>COMPACT</td>\n",
              "      <td>2.0</td>\n",
              "      <td>4</td>\n",
              "      <td>AS5</td>\n",
              "      <td>Z</td>\n",
              "      <td>9.9</td>\n",
              "      <td>6.7</td>\n",
              "      <td>8.5</td>\n",
              "      <td>33</td>\n",
              "      <td>196</td>\n",
              "    </tr>\n",
              "    <tr>\n",
              "      <th>1</th>\n",
              "      <td>2014</td>\n",
              "      <td>ACURA</td>\n",
              "      <td>ILX</td>\n",
              "      <td>COMPACT</td>\n",
              "      <td>2.4</td>\n",
              "      <td>4</td>\n",
              "      <td>M6</td>\n",
              "      <td>Z</td>\n",
              "      <td>11.2</td>\n",
              "      <td>7.7</td>\n",
              "      <td>9.6</td>\n",
              "      <td>29</td>\n",
              "      <td>221</td>\n",
              "    </tr>\n",
              "    <tr>\n",
              "      <th>2</th>\n",
              "      <td>2014</td>\n",
              "      <td>ACURA</td>\n",
              "      <td>ILX HYBRID</td>\n",
              "      <td>COMPACT</td>\n",
              "      <td>1.5</td>\n",
              "      <td>4</td>\n",
              "      <td>AV7</td>\n",
              "      <td>Z</td>\n",
              "      <td>6.0</td>\n",
              "      <td>5.8</td>\n",
              "      <td>5.9</td>\n",
              "      <td>48</td>\n",
              "      <td>136</td>\n",
              "    </tr>\n",
              "    <tr>\n",
              "      <th>3</th>\n",
              "      <td>2014</td>\n",
              "      <td>ACURA</td>\n",
              "      <td>MDX 4WD</td>\n",
              "      <td>SUV - SMALL</td>\n",
              "      <td>3.5</td>\n",
              "      <td>6</td>\n",
              "      <td>AS6</td>\n",
              "      <td>Z</td>\n",
              "      <td>12.7</td>\n",
              "      <td>9.1</td>\n",
              "      <td>11.1</td>\n",
              "      <td>25</td>\n",
              "      <td>255</td>\n",
              "    </tr>\n",
              "    <tr>\n",
              "      <th>4</th>\n",
              "      <td>2014</td>\n",
              "      <td>ACURA</td>\n",
              "      <td>RDX AWD</td>\n",
              "      <td>SUV - SMALL</td>\n",
              "      <td>3.5</td>\n",
              "      <td>6</td>\n",
              "      <td>AS6</td>\n",
              "      <td>Z</td>\n",
              "      <td>12.1</td>\n",
              "      <td>8.7</td>\n",
              "      <td>10.6</td>\n",
              "      <td>27</td>\n",
              "      <td>244</td>\n",
              "    </tr>\n",
              "    <tr>\n",
              "      <th>...</th>\n",
              "      <td>...</td>\n",
              "      <td>...</td>\n",
              "      <td>...</td>\n",
              "      <td>...</td>\n",
              "      <td>...</td>\n",
              "      <td>...</td>\n",
              "      <td>...</td>\n",
              "      <td>...</td>\n",
              "      <td>...</td>\n",
              "      <td>...</td>\n",
              "      <td>...</td>\n",
              "      <td>...</td>\n",
              "      <td>...</td>\n",
              "    </tr>\n",
              "    <tr>\n",
              "      <th>1062</th>\n",
              "      <td>2014</td>\n",
              "      <td>VOLVO</td>\n",
              "      <td>XC60 AWD</td>\n",
              "      <td>SUV - SMALL</td>\n",
              "      <td>3.0</td>\n",
              "      <td>6</td>\n",
              "      <td>AS6</td>\n",
              "      <td>X</td>\n",
              "      <td>13.4</td>\n",
              "      <td>9.8</td>\n",
              "      <td>11.8</td>\n",
              "      <td>24</td>\n",
              "      <td>271</td>\n",
              "    </tr>\n",
              "    <tr>\n",
              "      <th>1063</th>\n",
              "      <td>2014</td>\n",
              "      <td>VOLVO</td>\n",
              "      <td>XC60 AWD</td>\n",
              "      <td>SUV - SMALL</td>\n",
              "      <td>3.2</td>\n",
              "      <td>6</td>\n",
              "      <td>AS6</td>\n",
              "      <td>X</td>\n",
              "      <td>13.2</td>\n",
              "      <td>9.5</td>\n",
              "      <td>11.5</td>\n",
              "      <td>25</td>\n",
              "      <td>264</td>\n",
              "    </tr>\n",
              "    <tr>\n",
              "      <th>1064</th>\n",
              "      <td>2014</td>\n",
              "      <td>VOLVO</td>\n",
              "      <td>XC70 AWD</td>\n",
              "      <td>SUV - SMALL</td>\n",
              "      <td>3.0</td>\n",
              "      <td>6</td>\n",
              "      <td>AS6</td>\n",
              "      <td>X</td>\n",
              "      <td>13.4</td>\n",
              "      <td>9.8</td>\n",
              "      <td>11.8</td>\n",
              "      <td>24</td>\n",
              "      <td>271</td>\n",
              "    </tr>\n",
              "    <tr>\n",
              "      <th>1065</th>\n",
              "      <td>2014</td>\n",
              "      <td>VOLVO</td>\n",
              "      <td>XC70 AWD</td>\n",
              "      <td>SUV - SMALL</td>\n",
              "      <td>3.2</td>\n",
              "      <td>6</td>\n",
              "      <td>AS6</td>\n",
              "      <td>X</td>\n",
              "      <td>12.9</td>\n",
              "      <td>9.3</td>\n",
              "      <td>11.3</td>\n",
              "      <td>25</td>\n",
              "      <td>260</td>\n",
              "    </tr>\n",
              "    <tr>\n",
              "      <th>1066</th>\n",
              "      <td>2014</td>\n",
              "      <td>VOLVO</td>\n",
              "      <td>XC90 AWD</td>\n",
              "      <td>SUV - STANDARD</td>\n",
              "      <td>3.2</td>\n",
              "      <td>6</td>\n",
              "      <td>AS6</td>\n",
              "      <td>X</td>\n",
              "      <td>14.9</td>\n",
              "      <td>10.2</td>\n",
              "      <td>12.8</td>\n",
              "      <td>22</td>\n",
              "      <td>294</td>\n",
              "    </tr>\n",
              "  </tbody>\n",
              "</table>\n",
              "<p>1067 rows × 13 columns</p>\n",
              "</div>\n",
              "    <div class=\"colab-df-buttons\">\n",
              "\n",
              "  <div class=\"colab-df-container\">\n",
              "    <button class=\"colab-df-convert\" onclick=\"convertToInteractive('df-74d65f9a-2486-428a-bb3d-0d235c0dd544')\"\n",
              "            title=\"Convert this dataframe to an interactive table.\"\n",
              "            style=\"display:none;\">\n",
              "\n",
              "  <svg xmlns=\"http://www.w3.org/2000/svg\" height=\"24px\" viewBox=\"0 -960 960 960\">\n",
              "    <path d=\"M120-120v-720h720v720H120Zm60-500h600v-160H180v160Zm220 220h160v-160H400v160Zm0 220h160v-160H400v160ZM180-400h160v-160H180v160Zm440 0h160v-160H620v160ZM180-180h160v-160H180v160Zm440 0h160v-160H620v160Z\"/>\n",
              "  </svg>\n",
              "    </button>\n",
              "\n",
              "  <style>\n",
              "    .colab-df-container {\n",
              "      display:flex;\n",
              "      gap: 12px;\n",
              "    }\n",
              "\n",
              "    .colab-df-convert {\n",
              "      background-color: #E8F0FE;\n",
              "      border: none;\n",
              "      border-radius: 50%;\n",
              "      cursor: pointer;\n",
              "      display: none;\n",
              "      fill: #1967D2;\n",
              "      height: 32px;\n",
              "      padding: 0 0 0 0;\n",
              "      width: 32px;\n",
              "    }\n",
              "\n",
              "    .colab-df-convert:hover {\n",
              "      background-color: #E2EBFA;\n",
              "      box-shadow: 0px 1px 2px rgba(60, 64, 67, 0.3), 0px 1px 3px 1px rgba(60, 64, 67, 0.15);\n",
              "      fill: #174EA6;\n",
              "    }\n",
              "\n",
              "    .colab-df-buttons div {\n",
              "      margin-bottom: 4px;\n",
              "    }\n",
              "\n",
              "    [theme=dark] .colab-df-convert {\n",
              "      background-color: #3B4455;\n",
              "      fill: #D2E3FC;\n",
              "    }\n",
              "\n",
              "    [theme=dark] .colab-df-convert:hover {\n",
              "      background-color: #434B5C;\n",
              "      box-shadow: 0px 1px 3px 1px rgba(0, 0, 0, 0.15);\n",
              "      filter: drop-shadow(0px 1px 2px rgba(0, 0, 0, 0.3));\n",
              "      fill: #FFFFFF;\n",
              "    }\n",
              "  </style>\n",
              "\n",
              "    <script>\n",
              "      const buttonEl =\n",
              "        document.querySelector('#df-74d65f9a-2486-428a-bb3d-0d235c0dd544 button.colab-df-convert');\n",
              "      buttonEl.style.display =\n",
              "        google.colab.kernel.accessAllowed ? 'block' : 'none';\n",
              "\n",
              "      async function convertToInteractive(key) {\n",
              "        const element = document.querySelector('#df-74d65f9a-2486-428a-bb3d-0d235c0dd544');\n",
              "        const dataTable =\n",
              "          await google.colab.kernel.invokeFunction('convertToInteractive',\n",
              "                                                    [key], {});\n",
              "        if (!dataTable) return;\n",
              "\n",
              "        const docLinkHtml = 'Like what you see? Visit the ' +\n",
              "          '<a target=\"_blank\" href=https://colab.research.google.com/notebooks/data_table.ipynb>data table notebook</a>'\n",
              "          + ' to learn more about interactive tables.';\n",
              "        element.innerHTML = '';\n",
              "        dataTable['output_type'] = 'display_data';\n",
              "        await google.colab.output.renderOutput(dataTable, element);\n",
              "        const docLink = document.createElement('div');\n",
              "        docLink.innerHTML = docLinkHtml;\n",
              "        element.appendChild(docLink);\n",
              "      }\n",
              "    </script>\n",
              "  </div>\n",
              "\n",
              "\n",
              "<div id=\"df-ce7ba3c6-ad08-473c-86de-ac054e493d3d\">\n",
              "  <button class=\"colab-df-quickchart\" onclick=\"quickchart('df-ce7ba3c6-ad08-473c-86de-ac054e493d3d')\"\n",
              "            title=\"Suggest charts\"\n",
              "            style=\"display:none;\">\n",
              "\n",
              "<svg xmlns=\"http://www.w3.org/2000/svg\" height=\"24px\"viewBox=\"0 0 24 24\"\n",
              "     width=\"24px\">\n",
              "    <g>\n",
              "        <path d=\"M19 3H5c-1.1 0-2 .9-2 2v14c0 1.1.9 2 2 2h14c1.1 0 2-.9 2-2V5c0-1.1-.9-2-2-2zM9 17H7v-7h2v7zm4 0h-2V7h2v10zm4 0h-2v-4h2v4z\"/>\n",
              "    </g>\n",
              "</svg>\n",
              "  </button>\n",
              "\n",
              "<style>\n",
              "  .colab-df-quickchart {\n",
              "      --bg-color: #E8F0FE;\n",
              "      --fill-color: #1967D2;\n",
              "      --hover-bg-color: #E2EBFA;\n",
              "      --hover-fill-color: #174EA6;\n",
              "      --disabled-fill-color: #AAA;\n",
              "      --disabled-bg-color: #DDD;\n",
              "  }\n",
              "\n",
              "  [theme=dark] .colab-df-quickchart {\n",
              "      --bg-color: #3B4455;\n",
              "      --fill-color: #D2E3FC;\n",
              "      --hover-bg-color: #434B5C;\n",
              "      --hover-fill-color: #FFFFFF;\n",
              "      --disabled-bg-color: #3B4455;\n",
              "      --disabled-fill-color: #666;\n",
              "  }\n",
              "\n",
              "  .colab-df-quickchart {\n",
              "    background-color: var(--bg-color);\n",
              "    border: none;\n",
              "    border-radius: 50%;\n",
              "    cursor: pointer;\n",
              "    display: none;\n",
              "    fill: var(--fill-color);\n",
              "    height: 32px;\n",
              "    padding: 0;\n",
              "    width: 32px;\n",
              "  }\n",
              "\n",
              "  .colab-df-quickchart:hover {\n",
              "    background-color: var(--hover-bg-color);\n",
              "    box-shadow: 0 1px 2px rgba(60, 64, 67, 0.3), 0 1px 3px 1px rgba(60, 64, 67, 0.15);\n",
              "    fill: var(--button-hover-fill-color);\n",
              "  }\n",
              "\n",
              "  .colab-df-quickchart-complete:disabled,\n",
              "  .colab-df-quickchart-complete:disabled:hover {\n",
              "    background-color: var(--disabled-bg-color);\n",
              "    fill: var(--disabled-fill-color);\n",
              "    box-shadow: none;\n",
              "  }\n",
              "\n",
              "  .colab-df-spinner {\n",
              "    border: 2px solid var(--fill-color);\n",
              "    border-color: transparent;\n",
              "    border-bottom-color: var(--fill-color);\n",
              "    animation:\n",
              "      spin 1s steps(1) infinite;\n",
              "  }\n",
              "\n",
              "  @keyframes spin {\n",
              "    0% {\n",
              "      border-color: transparent;\n",
              "      border-bottom-color: var(--fill-color);\n",
              "      border-left-color: var(--fill-color);\n",
              "    }\n",
              "    20% {\n",
              "      border-color: transparent;\n",
              "      border-left-color: var(--fill-color);\n",
              "      border-top-color: var(--fill-color);\n",
              "    }\n",
              "    30% {\n",
              "      border-color: transparent;\n",
              "      border-left-color: var(--fill-color);\n",
              "      border-top-color: var(--fill-color);\n",
              "      border-right-color: var(--fill-color);\n",
              "    }\n",
              "    40% {\n",
              "      border-color: transparent;\n",
              "      border-right-color: var(--fill-color);\n",
              "      border-top-color: var(--fill-color);\n",
              "    }\n",
              "    60% {\n",
              "      border-color: transparent;\n",
              "      border-right-color: var(--fill-color);\n",
              "    }\n",
              "    80% {\n",
              "      border-color: transparent;\n",
              "      border-right-color: var(--fill-color);\n",
              "      border-bottom-color: var(--fill-color);\n",
              "    }\n",
              "    90% {\n",
              "      border-color: transparent;\n",
              "      border-bottom-color: var(--fill-color);\n",
              "    }\n",
              "  }\n",
              "</style>\n",
              "\n",
              "  <script>\n",
              "    async function quickchart(key) {\n",
              "      const quickchartButtonEl =\n",
              "        document.querySelector('#' + key + ' button');\n",
              "      quickchartButtonEl.disabled = true;  // To prevent multiple clicks.\n",
              "      quickchartButtonEl.classList.add('colab-df-spinner');\n",
              "      try {\n",
              "        const charts = await google.colab.kernel.invokeFunction(\n",
              "            'suggestCharts', [key], {});\n",
              "      } catch (error) {\n",
              "        console.error('Error during call to suggestCharts:', error);\n",
              "      }\n",
              "      quickchartButtonEl.classList.remove('colab-df-spinner');\n",
              "      quickchartButtonEl.classList.add('colab-df-quickchart-complete');\n",
              "    }\n",
              "    (() => {\n",
              "      let quickchartButtonEl =\n",
              "        document.querySelector('#df-ce7ba3c6-ad08-473c-86de-ac054e493d3d button');\n",
              "      quickchartButtonEl.style.display =\n",
              "        google.colab.kernel.accessAllowed ? 'block' : 'none';\n",
              "    })();\n",
              "  </script>\n",
              "</div>\n",
              "\n",
              "  <div id=\"id_f60ba301-68db-4e5e-8399-d48895ef10d7\">\n",
              "    <style>\n",
              "      .colab-df-generate {\n",
              "        background-color: #E8F0FE;\n",
              "        border: none;\n",
              "        border-radius: 50%;\n",
              "        cursor: pointer;\n",
              "        display: none;\n",
              "        fill: #1967D2;\n",
              "        height: 32px;\n",
              "        padding: 0 0 0 0;\n",
              "        width: 32px;\n",
              "      }\n",
              "\n",
              "      .colab-df-generate:hover {\n",
              "        background-color: #E2EBFA;\n",
              "        box-shadow: 0px 1px 2px rgba(60, 64, 67, 0.3), 0px 1px 3px 1px rgba(60, 64, 67, 0.15);\n",
              "        fill: #174EA6;\n",
              "      }\n",
              "\n",
              "      [theme=dark] .colab-df-generate {\n",
              "        background-color: #3B4455;\n",
              "        fill: #D2E3FC;\n",
              "      }\n",
              "\n",
              "      [theme=dark] .colab-df-generate:hover {\n",
              "        background-color: #434B5C;\n",
              "        box-shadow: 0px 1px 3px 1px rgba(0, 0, 0, 0.15);\n",
              "        filter: drop-shadow(0px 1px 2px rgba(0, 0, 0, 0.3));\n",
              "        fill: #FFFFFF;\n",
              "      }\n",
              "    </style>\n",
              "    <button class=\"colab-df-generate\" onclick=\"generateWithVariable('data')\"\n",
              "            title=\"Generate code using this dataframe.\"\n",
              "            style=\"display:none;\">\n",
              "\n",
              "  <svg xmlns=\"http://www.w3.org/2000/svg\" height=\"24px\"viewBox=\"0 0 24 24\"\n",
              "       width=\"24px\">\n",
              "    <path d=\"M7,19H8.4L18.45,9,17,7.55,7,17.6ZM5,21V16.75L18.45,3.32a2,2,0,0,1,2.83,0l1.4,1.43a1.91,1.91,0,0,1,.58,1.4,1.91,1.91,0,0,1-.58,1.4L9.25,21ZM18.45,9,17,7.55Zm-12,3A5.31,5.31,0,0,0,4.9,8.1,5.31,5.31,0,0,0,1,6.5,5.31,5.31,0,0,0,4.9,4.9,5.31,5.31,0,0,0,6.5,1,5.31,5.31,0,0,0,8.1,4.9,5.31,5.31,0,0,0,12,6.5,5.46,5.46,0,0,0,6.5,12Z\"/>\n",
              "  </svg>\n",
              "    </button>\n",
              "    <script>\n",
              "      (() => {\n",
              "      const buttonEl =\n",
              "        document.querySelector('#id_f60ba301-68db-4e5e-8399-d48895ef10d7 button.colab-df-generate');\n",
              "      buttonEl.style.display =\n",
              "        google.colab.kernel.accessAllowed ? 'block' : 'none';\n",
              "\n",
              "      buttonEl.onclick = () => {\n",
              "        google.colab.notebook.generateWithVariable('data');\n",
              "      }\n",
              "      })();\n",
              "    </script>\n",
              "  </div>\n",
              "\n",
              "    </div>\n",
              "  </div>\n"
            ],
            "application/vnd.google.colaboratory.intrinsic+json": {
              "type": "dataframe",
              "variable_name": "data",
              "summary": "{\n  \"name\": \"data\",\n  \"rows\": 1067,\n  \"fields\": [\n    {\n      \"column\": \"MODELYEAR\",\n      \"properties\": {\n        \"dtype\": \"number\",\n        \"std\": 0,\n        \"min\": 2014,\n        \"max\": 2014,\n        \"num_unique_values\": 1,\n        \"samples\": [\n          2014\n        ],\n        \"semantic_type\": \"\",\n        \"description\": \"\"\n      }\n    },\n    {\n      \"column\": \"MAKE\",\n      \"properties\": {\n        \"dtype\": \"category\",\n        \"num_unique_values\": 39,\n        \"samples\": [\n          \"SMART\"\n        ],\n        \"semantic_type\": \"\",\n        \"description\": \"\"\n      }\n    },\n    {\n      \"column\": \"MODEL\",\n      \"properties\": {\n        \"dtype\": \"string\",\n        \"num_unique_values\": 663,\n        \"samples\": [\n          \"XJL SUPERCHARGED\"\n        ],\n        \"semantic_type\": \"\",\n        \"description\": \"\"\n      }\n    },\n    {\n      \"column\": \"VEHICLECLASS\",\n      \"properties\": {\n        \"dtype\": \"category\",\n        \"num_unique_values\": 16,\n        \"samples\": [\n          \"COMPACT\"\n        ],\n        \"semantic_type\": \"\",\n        \"description\": \"\"\n      }\n    },\n    {\n      \"column\": \"ENGINESIZE\",\n      \"properties\": {\n        \"dtype\": \"number\",\n        \"std\": 1.4158950514240647,\n        \"min\": 1.0,\n        \"max\": 8.4,\n        \"num_unique_values\": 45,\n        \"samples\": [\n          3.4\n        ],\n        \"semantic_type\": \"\",\n        \"description\": \"\"\n      }\n    },\n    {\n      \"column\": \"CYLINDERS\",\n      \"properties\": {\n        \"dtype\": \"number\",\n        \"std\": 1,\n        \"min\": 3,\n        \"max\": 12,\n        \"num_unique_values\": 7,\n        \"samples\": [\n          4\n        ],\n        \"semantic_type\": \"\",\n        \"description\": \"\"\n      }\n    },\n    {\n      \"column\": \"TRANSMISSION\",\n      \"properties\": {\n        \"dtype\": \"category\",\n        \"num_unique_values\": 22,\n        \"samples\": [\n          \"AS5\"\n        ],\n        \"semantic_type\": \"\",\n        \"description\": \"\"\n      }\n    },\n    {\n      \"column\": \"FUELTYPE\",\n      \"properties\": {\n        \"dtype\": \"category\",\n        \"num_unique_values\": 4,\n        \"samples\": [\n          \"D\"\n        ],\n        \"semantic_type\": \"\",\n        \"description\": \"\"\n      }\n    },\n    {\n      \"column\": \"FUELCONSUMPTION_CITY\",\n      \"properties\": {\n        \"dtype\": \"number\",\n        \"std\": 4.101253317068339,\n        \"min\": 4.6,\n        \"max\": 30.2,\n        \"num_unique_values\": 167,\n        \"samples\": [\n          21.5\n        ],\n        \"semantic_type\": \"\",\n        \"description\": \"\"\n      }\n    },\n    {\n      \"column\": \"FUELCONSUMPTION_HWY\",\n      \"properties\": {\n        \"dtype\": \"number\",\n        \"std\": 2.7945104498854048,\n        \"min\": 4.9,\n        \"max\": 20.5,\n        \"num_unique_values\": 118,\n        \"samples\": [\n          5.1\n        ],\n        \"semantic_type\": \"\",\n        \"description\": \"\"\n      }\n    },\n    {\n      \"column\": \"FUELCONSUMPTION_COMB\",\n      \"properties\": {\n        \"dtype\": \"number\",\n        \"std\": 3.4855948496348406,\n        \"min\": 4.7,\n        \"max\": 25.8,\n        \"num_unique_values\": 148,\n        \"samples\": [\n          6.3\n        ],\n        \"semantic_type\": \"\",\n        \"description\": \"\"\n      }\n    },\n    {\n      \"column\": \"FUELCONSUMPTION_COMB_MPG\",\n      \"properties\": {\n        \"dtype\": \"number\",\n        \"std\": 7,\n        \"min\": 11,\n        \"max\": 60,\n        \"num_unique_values\": 43,\n        \"samples\": [\n          45\n        ],\n        \"semantic_type\": \"\",\n        \"description\": \"\"\n      }\n    },\n    {\n      \"column\": \"CO2EMISSIONS\",\n      \"properties\": {\n        \"dtype\": \"number\",\n        \"std\": 63,\n        \"min\": 108,\n        \"max\": 488,\n        \"num_unique_values\": 159,\n        \"samples\": [\n          366\n        ],\n        \"semantic_type\": \"\",\n        \"description\": \"\"\n      }\n    }\n  ]\n}"
            }
          },
          "metadata": {},
          "execution_count": 2
        }
      ]
    },
    {
      "cell_type": "code",
      "source": [
        "data_simple = data[['ENGINESIZE', 'CO2EMISSIONS']]\n",
        "data_simple.info()"
      ],
      "metadata": {
        "colab": {
          "base_uri": "https://localhost:8080/"
        },
        "id": "XTEekz3RZJAm",
        "outputId": "0bcc6f73-d3dc-4c26-a7d5-5d3bbd6a460e"
      },
      "execution_count": 3,
      "outputs": [
        {
          "output_type": "stream",
          "name": "stdout",
          "text": [
            "<class 'pandas.core.frame.DataFrame'>\n",
            "RangeIndex: 1067 entries, 0 to 1066\n",
            "Data columns (total 2 columns):\n",
            " #   Column        Non-Null Count  Dtype  \n",
            "---  ------        --------------  -----  \n",
            " 0   ENGINESIZE    1067 non-null   float64\n",
            " 1   CO2EMISSIONS  1067 non-null   int64  \n",
            "dtypes: float64(1), int64(1)\n",
            "memory usage: 16.8 KB\n"
          ]
        }
      ]
    },
    {
      "cell_type": "markdown",
      "source": [
        "#### Estimating the parameters (mathematical approach)\n",
        "\n",
        "$$\n",
        "\\begin{align}\n",
        "\\widehat{y} &= \\theta_{0} + \\theta_{1}x_1 \\\\\\\\\n",
        "\\theta_{1} &= \\frac{\\sum_{i=1}^s\\left(x_{i} - \\bar{x}\\right)\\left(y_{i}-\\bar{y}\\right)}{\\sum_{i=1}^{s}\\left(x_{i} - \\bar{x}\\right)^{2}} \\\\\\\\\n",
        "\\theta_{0} &= \\bar{y} - \\theta_{1}\\bar{x}\n",
        "\\end{align}\n",
        "$$\n",
        "\n"
      ],
      "metadata": {
        "id": "bN6A6F7OWj5d"
      }
    },
    {
      "cell_type": "code",
      "source": [
        "def theta1(x, y):\n",
        "    s = len(x)\n",
        "    x_mean = x.mean()\n",
        "    y_mean = y.mean()\n",
        "    return ((x - x_mean) * (y - y_mean)).sum() / ((x - x_mean)**2).sum()\n",
        "\n",
        "def theta0(x, y):\n",
        "    x_mean = x.mean()\n",
        "    y_mean = y.mean()\n",
        "    return y_mean - theta1(x, y) * x_mean\n",
        "\n",
        "coef_1 = theta1(data_simple['ENGINESIZE'], data_simple['CO2EMISSIONS'])\n",
        "coef_0 = theta0(data_simple['ENGINESIZE'], data_simple['CO2EMISSIONS'])\n",
        "coef_1, coef_0"
      ],
      "metadata": {
        "colab": {
          "base_uri": "https://localhost:8080/"
        },
        "id": "5-4MmKahZXJM",
        "outputId": "08dfcf2a-e37b-4cd8-a40e-c3f7ac9a22d4"
      },
      "execution_count": 4,
      "outputs": [
        {
          "output_type": "execute_result",
          "data": {
            "text/plain": [
              "(39.12519978671174, 125.30409949535684)"
            ]
          },
          "metadata": {},
          "execution_count": 4
        }
      ]
    },
    {
      "cell_type": "code",
      "source": [
        "data_simple.plot(kind='scatter', x='ENGINESIZE', y='CO2EMISSIONS', color='dodgerblue', label='data')\n",
        "plt.plot(data_simple['ENGINESIZE'],\n",
        "         coef_0 + coef_1 * data_simple['ENGINESIZE'],\n",
        "         linewidth=3, color='red', label=f'$\\hat{{y}} = {coef_0.round(1)} + {coef_1.round(1)}x_{{1}}$')\n",
        "plt.title('Emission vs. Engine Size')\n",
        "plt.xlabel('Engine size')\n",
        "plt.ylabel('Emission')\n",
        "plt.grid()\n",
        "plt.legend()\n",
        "\n",
        "plt.show()"
      ],
      "metadata": {
        "colab": {
          "base_uri": "https://localhost:8080/",
          "height": 472
        },
        "id": "k-seGhAFbfWK",
        "outputId": "909762bf-6215-4878-9c3b-a08090f1b18b"
      },
      "execution_count": 5,
      "outputs": [
        {
          "output_type": "display_data",
          "data": {
            "text/plain": [
              "<Figure size 640x480 with 1 Axes>"
            ],
            "image/png": "[encoded data removed]"
          },
          "metadata": {}
        }
      ]
    },
    {
      "cell_type": "markdown",
      "source": [
        "#### Pros of linear regression\n",
        "\n",
        "- Very fast\n",
        "- No parameter tuning\n",
        "- Easy ot understand and highly interpretable"
      ],
      "metadata": {
        "id": "EoXcgJ7wi08n"
      }
    },
    {
      "cell_type": "markdown",
      "source": [
        "### 1.2.1.3 Model Evaluation in Regression Models"
      ],
      "metadata": {
        "id": "cEWu_-h-jNhI"
      }
    },
    {
      "cell_type": "markdown",
      "source": [
        "#### Two Types of Evaluation\n",
        "\n",
        "1. Train and Test on the same dataset\n",
        "2. Train/Test split"
      ],
      "metadata": {
        "id": "6TunNe3BtNz_"
      }
    },
    {
      "cell_type": "markdown",
      "source": [
        "#### Train and Test on the same dataset\n",
        "\n",
        "- Train with the entire dataset to build a model\n",
        "- Select a subset to test the model\n",
        "    - Labels are not used for prediction, they are used only as ground truth\n",
        "    - Compare our predicted values with the ground truth\n",
        "- This is likely to result in high **training accuracy** and low **out-of sample accuracy**"
      ],
      "metadata": {
        "id": "exHTumFSuAGv"
      }
    },
    {
      "cell_type": "markdown",
      "source": [
        "#### Training accuracy vs. out-of-sample accuracy\n",
        "\n",
        "- Training accuracy\n",
        "    - Percenage of correct predictions that the model makes when using the test dataset\n",
        "    - Not necessarily a good thing\n",
        "    - Result of over-fitting\n",
        "        - The model is overly trained to the dataset, which may capture noise and produce a non-generalized model\n",
        "- Out-of-sample accuracy\n",
        "    - Percentage of correct predictions that the model makes on data that the model has not been trained on\n",
        "    - It's important that our models have a high, out-of-sample accuracy\n",
        "    - How can we improve out-of-sample accuracy?\n",
        "        - Use the second approach: Train/Test split"
      ],
      "metadata": {
        "id": "NXHx8OdvwYvd"
      }
    },
    {
      "cell_type": "markdown",
      "source": [
        "#### Train/Test Split\n",
        "\n",
        "- Train on a portion the dataset\n",
        "- Test on another portion of the dataset\n",
        "- This provides a more accurate evaluation on out-of-sample accuracy\n",
        "- Higly dependent on which datasets the data is trained and tested\n",
        "    - K-fold cross validation solves most of these issues\n",
        "- After the evaluation, be sure to train the model with the entire dataset so as not to lose potentially valuable data"
      ],
      "metadata": {
        "id": "8NBg8MNTyZOb"
      }
    },
    {
      "cell_type": "markdown",
      "source": [
        "#### K-fold cross-validation\n",
        "\n",
        "- Say we use 4 folds:\n",
        " 1. Split the dataset into 4 \"folds\" of equal size\n",
        " 2. Use each subsequent fold as the test set, and the rest of the dataset for training\n",
        "    - Each time the accuracy is calculated\n",
        " 3. The result of 4 evaluations are averaged\n",
        "    - This produces a more consistent out-of-sample accuracy"
      ],
      "metadata": {
        "id": "X7xz7VIIzkY_"
      }
    },
    {
      "cell_type": "markdown",
      "source": [
        "#### Metrics to calculate the accuracy of our model:\n",
        "\n",
        "In the context of regression, the error is the difference between the data points and the trend line generated by the algorithm.\n",
        "\n",
        "1. **Mean Absolute Error (MAE)**: The average distance between the actual and predicted values for all rows.\n",
        "\n",
        "$$\n",
        "MAE = \\frac{1}{n}\\sum_{j=1}^{n}\\lvert y_j - \\widehat{y}_j\\rvert\n",
        "$$\n",
        "\n",
        "2. **Mean Squared Error**: The average squared distance between the actual predicted values for all rows. The squared term increases large errors exponentially in comparison to smaller errors. This is a more popular choice than MAE for that reason.\n",
        "\n",
        "$$\n",
        "MSE = \\frac{1}{n}\\sum_{i=1}^{n}\\left(y_i - \\widehat{y}_i\\right)^2\n",
        "$$\n",
        "\n",
        "3. **Root Mean Squared Error (RMSE)**: The square root of the average squared distance between the actual predicted values for all rows. This is the most popular metric because it is interpretable in the same units as the response vector, $y$.\n",
        "\n",
        "$$\n",
        "RMSE = \\sqrt{\\frac{1}{n}\\sum_{j=1}^{n}\\left(y_j - \\widehat{y}_j\\right)^2}\n",
        "$$\n",
        "\n",
        "4. **Relative Absolute Error (RAE)**: Measures the average absolute difference between actual and predicted values relative to the average absolute difference between actual values and their mean. Another way of saying this is that it takes the total absolute error and normalizes it.\n",
        "\n",
        "$$\n",
        "RAE = \\frac{\\sum_{j=1}^{n}\\lvert y_j - \\widehat{y}_j\\rvert}{\\sum_{j=1}^{n}\\lvert y_j - \\bar{y}\\rvert}\n",
        "$$\n",
        "\n",
        "5. **Relative Squared Error (RSE)**: Widely adopted by the Data Science community because it is used to calculate $R^2$ (r-squared)\n",
        "\n",
        "$$\n",
        "RSE = \\frac{\\sum_{j=1}^{n}\\left( y_j - \\widehat{y}_j\\right)^2}{\\sum_{j=1}^{n}\\left( y_j - \\bar{y}\\right)^2} = \\frac{RSS}{TSS}\n",
        "$$\n",
        "\n",
        "6. **$R^2$**: This is not an error per say, but it is a popular metric for the accuracy of your model. It represents how close the data values are to the fitted regression line. The higher the $R^2$, the better your model fits the data.\n",
        "\n",
        "$$\n",
        "R^{2} = 1 - RSE\n",
        "$$\n",
        "\n",
        "\n",
        "7. **Residual Sum of Squares (RSS)**: Calculates the sume of the squared distance between actual and predicted values.\n",
        "\n",
        "$$\n",
        "RSS = \\sum_{i=1}^{n}\\left(y_i - \\widehat{y}_i\\right)^2\n",
        "$$\n",
        "\n",
        "8. **Total Sum of Squares (TSS)**:\n",
        "\n",
        "$$\n",
        "TSS = \\sum_{i=1}^{n}\\left(y_i - \\bar{y}\\right)^2\n",
        "$$\n",
        "\n"
      ],
      "metadata": {
        "id": "eNDrnIG3uuds"
      }
    },
    {
      "cell_type": "markdown",
      "source": [
        "### 1.2.1.4 Multiple Linear Regression"
      ],
      "metadata": {
        "id": "sMk31Qmabunr"
      }
    },
    {
      "cell_type": "markdown",
      "source": [
        "1. Simple Regression\n",
        "    - One independent variable is used to predict a dependent variable\n",
        "    - Two types\n",
        "        - Simple Linear Regression\n",
        "        - Simple Non-linear Regression\n",
        "2. Multiple Regression\n",
        "    - When more than one independent variable\n",
        "    - Two types:\n",
        "        - Multiple Linear Regresssion\n",
        "        - Multiple Non-linear Regression"
      ],
      "metadata": {
        "id": "CPscOYPqzhSi"
      }
    },
    {
      "cell_type": "markdown",
      "source": [
        "#### Examples of multiple linear regression\n",
        "\n",
        "Two applications for multiple linear regression\n",
        "\n",
        " 1. When we want to identify ndependent variables effectiveness on prediction\n",
        "   - Does revision time, test anxiety, lecture attendance and gender have any effect on the exam performance of students?\n",
        " 2. Predicting impacts of changes\n",
        "   - How much does blood pressure go up (or down) for every unmit increase (or decrease) in the BMI of a patient?"
      ],
      "metadata": {
        "id": "0WiKxHadzxSI"
      }
    },
    {
      "cell_type": "markdown",
      "source": [
        "#### Predicting continuous values with multiple linear regression\n",
        "\n",
        "- Like simple linear regression, multiple linear regression is a method of **predicting a continuous variable**\n",
        "- It uses multiple independent variables (or predictors) to predict the value of the target variable (aka dependent variable)\n",
        "- The targe variable, $y$, is a linear combination of independent variables.\n",
        "\n",
        "$$\n",
        "\\widehat{y} = \\theta_0 + \\theta_1x_1 + \\theta_2x_2 + ... + \\theta_nx_n\n",
        "$$\n",
        "\n",
        "- It can also be expressed as a dot product of two vectors, the parameters vector, $\\theta^T$, and the feature set vector, $X$.\n",
        "\n",
        "$$\n",
        "\\widehat{y} = \\theta^TX\n",
        "$$\n",
        "\n",
        "$$\n",
        "\\theta^T = \\left[\\theta_0, \\theta_1, \\theta_2, ..., \\theta_n\\right]\n",
        "$$\n",
        "\n",
        "$$\n",
        "X = \\begin{bmatrix}\n",
        "1 \\\\\n",
        "x_1 \\\\\n",
        "x_2 \\\\\n",
        "\\vdots \\\\\n",
        "x_n\n",
        "\\end{bmatrix}\n",
        "$$\n",
        "\n",
        "- Optimized parameters are those that lead to a model with the fewest errors\n",
        "- Residual error for one row:\n",
        "\n",
        "$$\n",
        "Error = y_i - \\widehat{y}\n",
        "$$\n",
        "\n",
        "- The mean of all residual errors shows how bad the model is in representing the dataset, it is called the **Mean Squared Error**\n",
        "\n",
        "$$\n",
        "MSE = \\frac{1}{n}\\sum_{i=1}^{n}\\left(y_i - \\widehat{y}_i\\right)^2\n",
        "$$\n",
        "\n",
        "- While this is not the only way to expose the error of a multiple linear regression model, it is one of the most popular ways to do so\n",
        "- The objective of multiple linear regression is to minimize the **MSE**\n",
        "\n"
      ],
      "metadata": {
        "id": "vBQH-Ktn1IZM"
      }
    },
    {
      "cell_type": "markdown",
      "source": [
        "#### Estimating multiple linear regression parameters\n",
        "\n",
        "- How to estimate $\\theta$?\n",
        "- There are many ways to do this, but the two most common methods are:\n",
        " 1. **Ordinary least squares**\n",
        "   - Tries to estimate the values of the coefficients by minimizing the **MSE**\n",
        "   - This approach uses the data as a matrix and uses linear algebra operations to estimate the optimal values for $\\theta$\n",
        "   - Con: time complexity of calculating matrix operations. Can be very slow. This techniques is only viable if the dataset has less than 10K rows\n",
        " 2. Optimization algorithm\n",
        "   - The error is reduced iteratively\n",
        "   - Example: **Gradient Descent**"
      ],
      "metadata": {
        "id": "nrz7bZ2JA9cz"
      }
    },
    {
      "cell_type": "markdown",
      "source": [
        "#### Making predictions with multiple linear regression\n",
        "\n",
        "- As simple as solving an equation for a specific set of inputs\n",
        "\n",
        "$$\n",
        "\\widehat{y} = \\theta^TX\n",
        "$$"
      ],
      "metadata": {
        "id": "cIddKvV-DFtz"
      }
    },
    {
      "cell_type": "markdown",
      "source": [
        "#### Q&A on multiplelnear regression\n",
        "\n",
        "- How many idependent variables should you use?\n",
        " - Adding variables does not always increase the accuracy of the model\n",
        " - Adding variables can result in overfitting\n",
        "  - too complicated for you dataset and not general enough to be used for prediction\n",
        "- Should independent variables be continuous?\n",
        " - Categorical variables can be incorporated by converting them to numeric variables\n",
        "- What are the linear relationships between the dependent variable and the independent variables?\n",
        " - Linear regression is a specific type of regression in which there must be a linear relationship between the dependent variable and each of your independent variables\n",
        "  - Use scatter plots to visually check for linearity\n",
        "  - If the relationship is not lienar, you need to use **non-linear regression**\n",
        "\n"
      ],
      "metadata": {
        "id": "Yazf7cafEC9f"
      }
    }
  ]
}