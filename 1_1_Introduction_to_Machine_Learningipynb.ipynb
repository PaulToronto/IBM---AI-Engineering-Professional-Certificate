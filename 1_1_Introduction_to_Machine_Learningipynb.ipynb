{
  "nbformat": 4,
  "nbformat_minor": 0,
  "metadata": {
    "colab": {
      "provenance": [],
      "toc_visible": true,
      "authorship_tag": "ABX9TyM0I6JYaOx7gq073LGt81nl",
      "include_colab_link": true
    },
    "kernelspec": {
      "name": "python3",
      "display_name": "Python 3"
    },
    "language_info": {
      "name": "python"
    }
  },
  "cells": [
    {
      "cell_type": "markdown",
      "metadata": {
        "id": "view-in-github",
        "colab_type": "text"
      },
      "source": [
        "<a href=\"https://colab.research.google.com/github/PaulToronto/IBM---AI-Engineering-Professional-Certificate/blob/main/1_1_Introduction_to_Machine_Learningipynb.ipynb\" target=\"_parent\"><img src=\"https://colab.research.google.com/assets/colab-badge.svg\" alt=\"Open In Colab\"/></a>"
      ]
    },
    {
      "cell_type": "markdown",
      "source": [
        "# 1.1 Introduction to Machine Learning"
      ],
      "metadata": {
        "id": "akx769wgT5ME"
      }
    },
    {
      "cell_type": "markdown",
      "source": [
        "## 1.1.1 What is Machine Learning"
      ],
      "metadata": {
        "id": "TDYSIq85onjQ"
      }
    },
    {
      "cell_type": "markdown",
      "source": [
        "### 1.1.1.1 Introduction to Machine Learning"
      ],
      "metadata": {
        "id": "fSCYpJdqo8ja"
      }
    },
    {
      "cell_type": "markdown",
      "source": [
        "#### Machine Learning Steps\n",
        "\n",
        "1. Clean your data\n",
        "2. Select a proper algorithm for building a prediction model\n",
        "3. Train your model to understand patterns within the data\n",
        "4. Use model to make predictions"
      ],
      "metadata": {
        "id": "UCAEcsy2vsE3"
      }
    },
    {
      "cell_type": "markdown",
      "source": [
        "#### Definition: Machine Learning\n",
        "\n",
        "**Machine learning** is the subfield of computer science that gives \"computers the ability to learn without being explicitly programmed.\"\n",
        "\n",
        "~ Arthur Samuel (he coined the term \"machine learning\" in 1959 while at IBM"
      ],
      "metadata": {
        "id": "IWtc3cr0weH4"
      }
    },
    {
      "cell_type": "markdown",
      "source": [
        "#### Major machine learning techniques\n",
        "\n",
        "- **Regression/Estimation**\n",
        "    - Used for predicting continuous values\n",
        "- **Classification**\n",
        "    - Used for predicting the item class/category of a case\n",
        "- **Clustering**\n",
        "    - Finding the structure of dataa; summarization\n",
        "- **Associations**\n",
        "    - Associating frequent co-occurring items/events\n",
        "- **Anomaly detection**\n",
        "    - Discovering abnormal and unusual cases\n",
        "- **Sequence mining**\n",
        "    - Predicting next events; click stream (Markov Model, HMM)\n",
        "- **Dimension Reduction**\n",
        "    - Reducing the size of data (PCA)\n",
        "- **Recommendation systems**\n",
        "    - Recommending items"
      ],
      "metadata": {
        "id": "IaXXnbL-yOjk"
      }
    },
    {
      "cell_type": "markdown",
      "source": [
        "#### Difference between Artificial Intelligence, Machine Learning and Deep Learning\n",
        "\n",
        "- **AI components**: tries to make computers intelligent in order to mimic the cognitive functions of humans\n",
        "    - Computer Vision\n",
        "    - Language Processing\n",
        "    - Creativity\n",
        "    - Summarization\n",
        "    - ...\n",
        "- **Machine Learning**: covers the statistical part of ; teaches the computer\n",
        "    - Classification\n",
        "    - Clustering\n",
        "    - Neural Network\n",
        "    - ...\n",
        "- **Revolution in ML**\n",
        "    - Deep learning\n",
        "        - Where computers can actually learn and make intelligent decisions on their own"
      ],
      "metadata": {
        "id": "3L8Psy2t0Phj"
      }
    },
    {
      "cell_type": "markdown",
      "source": [
        "### 1.1.1.2 Python for Machine Learning"
      ],
      "metadata": {
        "id": "2HscOfd31tG-"
      }
    },
    {
      "cell_type": "markdown",
      "source": [
        "#### Python libraries for machine learning\n",
        "\n",
        "- **NumPy**: math library to work witn n-dimensional arrays\n",
        "- **SciPy**: library for scientific and high performance computation\n",
        "- **Matplotlib**: plotting package that provides 2D and 3D plotting\n",
        "- **Pandas**: very high level python library that offers high performance data structures for manipulating numerical tables and time series\n",
        "- **Scikit-learn**: a collection of algorithms and tools for machine learning"
      ],
      "metadata": {
        "id": "xNlFR_G82n4b"
      }
    },
    {
      "cell_type": "markdown",
      "source": [
        "#### More about scikit-learn\n",
        "\n",
        "- Free software machine learning library\n",
        "- Classification, Regression and Clustering algorithms\n",
        "- Designed to work with NumPy and SciPy\n",
        "- Great documenation\n",
        "- Easy to implement\n",
        "- Tasks already implemented\n",
        "    - Data Preprocessing\n",
        "    - Train/Test split\n",
        "    - Algorithm setup\n",
        "    - Model fitting\n",
        "    - Prediction\n",
        "    - Evaluation\n",
        "    - Model export"
      ],
      "metadata": {
        "id": "Y8mOp3Zy40q0"
      }
    },
    {
      "cell_type": "markdown",
      "source": [
        "#### Scikit-learn functions\n",
        "\n",
        "```python\n",
        "from sklearn import preprocessing\n",
        "X = preprocessing.StandardScaler().fit(X). transform(X)\n",
        "```\n",
        "\n",
        "```python\n",
        "from sklearn.model_selection import train_test_split\n",
        "X_train, X_test, y_train, y_test in train_test_split(X, y, test_size=0.33)\n",
        "```\n",
        "\n",
        "```python\n",
        "from sklearn import svm\n",
        "clf = svm.SVC(gamma=0.001, C=100.)\n",
        "```\n",
        "\n",
        "```python\n",
        "clf.fit(X_train, y_train)\n",
        "```\n",
        "\n",
        "```python\n",
        "clf.predict(X_test)\n",
        "```\n",
        "\n",
        "```python\n",
        "from sklearn.metrics import confusion_matrix\n",
        "print(confusion_matrix(y_test, y_hat, labels=[1, 0]))\n",
        "```\n",
        "\n",
        "```python\n",
        "import pickle\n",
        "s = pickle.dumps(clf)\n",
        "```"
      ],
      "metadata": {
        "id": "9W5QSGe06bJY"
      }
    },
    {
      "cell_type": "markdown",
      "source": [
        "### 1.1.1.3 Supervised vs. Unsupervised"
      ],
      "metadata": {
        "id": "KIkaYH8Q817Z"
      }
    },
    {
      "cell_type": "markdown",
      "source": [
        "#### What is supervised learning?\n",
        "\n",
        "- The dataset is labeled\n",
        "- Two types:\n",
        "    - Classification: the process of predicting discrete class labels\n",
        "    - Regression: the process of predicting continuous values"
      ],
      "metadata": {
        "id": "4HfFJuYh9t7F"
      }
    },
    {
      "cell_type": "markdown",
      "source": [
        "#### What is unsupervised learning?\n",
        "\n",
        "- No labels\n",
        "- The model works on its own to discover information that may not be visible to the human eye\n",
        "- Has more evaluation methods than unsupervised learning\n",
        "- Controlled environment\n",
        "- Unsupervised learning techniques:\n",
        "    - Dimension reduction\n",
        "    - Density estimation\n",
        "    - Market basket analysis\n",
        "    - Clustering"
      ],
      "metadata": {
        "id": "MkfLG1IICoE6"
      }
    },
    {
      "cell_type": "markdown",
      "source": [
        "3### What is clustering?\n",
        "\n",
        "- **Clustering** is grouping of data points or objects that are somehow similary by:\n",
        "    - Discovering structure\n",
        "    - Summarization\n",
        "    - Anomaly detection\n",
        "- Has fewer evaluation methods than supervised learning\n",
        "- Less controlled environment"
      ],
      "metadata": {
        "id": "wVIE2IgPDfy4"
      }
    }
  ]
}