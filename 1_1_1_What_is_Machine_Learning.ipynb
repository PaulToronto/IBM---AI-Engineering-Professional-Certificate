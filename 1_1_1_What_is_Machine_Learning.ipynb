{
  "nbformat": 4,
  "nbformat_minor": 0,
  "metadata": {
    "colab": {
      "provenance": [],
      "toc_visible": true,
      "authorship_tag": "ABX9TyO+JOyZzBqmbYtZW/cRhEcz",
      "include_colab_link": true
    },
    "kernelspec": {
      "name": "python3",
      "display_name": "Python 3"
    },
    "language_info": {
      "name": "python"
    }
  },
  "cells": [
    {
      "cell_type": "markdown",
      "metadata": {
        "id": "view-in-github",
        "colab_type": "text"
      },
      "source": [
        "<a href=\"https://colab.research.google.com/github/PaulToronto/IBM---AI-Engineering-Professional-Certificate/blob/main/1_1_1_What_is_Machine_Learning.ipynb\" target=\"_parent\"><img src=\"https://colab.research.google.com/assets/colab-badge.svg\" alt=\"Open In Colab\"/></a>"
      ]
    },
    {
      "cell_type": "markdown",
      "source": [
        "# 1.1.1 What is Machine Learning"
      ],
      "metadata": {
        "id": "akx769wgT5ME"
      }
    },
    {
      "cell_type": "markdown",
      "source": [
        "## 1.1.1.1 Introduction to Machine Learning"
      ],
      "metadata": {
        "id": "9CcVxJrUXItm"
      }
    },
    {
      "cell_type": "code",
      "execution_count": null,
      "metadata": {
        "id": "19WzBuJcTwta"
      },
      "outputs": [],
      "source": []
    }
  ]
}