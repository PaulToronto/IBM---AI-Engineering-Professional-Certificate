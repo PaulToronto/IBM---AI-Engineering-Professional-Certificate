{
  "nbformat": 4,
  "nbformat_minor": 0,
  "metadata": {
    "colab": {
      "provenance": [],
      "toc_visible": true,
      "authorship_tag": "ABX9TyMkyZuJ0Bfnai5UTFvLWoX8",
      "include_colab_link": true
    },
    "kernelspec": {
      "name": "python3",
      "display_name": "Python 3"
    },
    "language_info": {
      "name": "python"
    }
  },
  "cells": [
    {
      "cell_type": "markdown",
      "metadata": {
        "id": "view-in-github",
        "colab_type": "text"
      },
      "source": [
        "<a href=\"https://colab.research.google.com/github/PaulToronto/IBM---AI-Engineering-Professional-Certificate/blob/main/1_3_Classification.ipynb\" target=\"_parent\"><img src=\"https://colab.research.google.com/assets/colab-badge.svg\" alt=\"Open In Colab\"/></a>"
      ]
    },
    {
      "cell_type": "markdown",
      "source": [
        "# 1.3 Classification"
      ],
      "metadata": {
        "id": "KCa1S1BpSaJf"
      }
    },
    {
      "cell_type": "markdown",
      "source": [
        "## Imports"
      ],
      "metadata": {
        "id": "yfayxYKpSfES"
      }
    },
    {
      "cell_type": "code",
      "source": [
        "import pandas as pd\n",
        "import numpy as np\n",
        "import matplotlib.pyplot as plt\n",
        "import seaborn as sns\n",
        "\n",
        "from sklearn.metrics import accuracy_score, precision_score, recall_score, f1_score\n",
        "from sklearn.metrics import jaccard_score, log_loss\n",
        "from sklearn.metrics import confusion_matrix, ConfusionMatrixDisplay, classification_report"
      ],
      "metadata": {
        "id": "R2phvp3zSgdi"
      },
      "execution_count": 1,
      "outputs": []
    },
    {
      "cell_type": "markdown",
      "source": [
        "## 1.3.1 K-Nearest Neighbours"
      ],
      "metadata": {
        "id": "OuCrg93RnI8j"
      }
    },
    {
      "cell_type": "markdown",
      "source": [
        "## 1.3.1.1 Introduction to Classification"
      ],
      "metadata": {
        "id": "IDLPsONQSg9u"
      }
    },
    {
      "cell_type": "markdown",
      "source": [
        "- A supervised learning approach\n",
        "- Categorizing some unknown items into a discrete set of categories or **classes**\n",
        "- The target attribute is a categorical variable\n",
        "- Classification can be:\n",
        "    - Binary classification\n",
        "    - Multiclass classification\n",
        "- Use cases\n",
        "    - Which category a customer belongs to\n",
        "    - Whether a customer switches to another provider/brand\n",
        "    - Whether a customer responds to a particular advertising campaign\n",
        "- Some classification algorithms\n",
        "    - Decision Trees (ID3, C4.5, C5.0)\n",
        "    - Naive Bayes\n",
        "    - Linear Discriminant Analysis\n",
        "    - k-Nearest Neighbour\n",
        "    - Logistic Regression\n",
        "    - Neural Networks\n",
        "    - Support Vector Machines (SVM)"
      ],
      "metadata": {
        "id": "Fzr8w2dZn6hw"
      }
    },
    {
      "cell_type": "markdown",
      "source": [
        "## 1.3.1.2 k-Nearest Neighbours"
      ],
      "metadata": {
        "id": "CmoQa0C_sqJ6"
      }
    },
    {
      "cell_type": "code",
      "source": [
        "data_url = 'https://s3-api.us-geo.objectstorage.softlayer.net/'\n",
        "data_url += 'cf-courses-data/CognitiveClass/ML0101ENv3/labs/teleCust1000t.csv'\n",
        "\n",
        "df = pd.read_csv(data_url)\n",
        "df = df[(df.age < 65) & (df.income < 225)][:50]\n",
        "df = df[~(df.index == 8)]\n",
        "df = df[['age', 'income', 'custcat']]\n",
        "df.reset_index(inplace=True, drop=True)\n",
        "df.head(8)"
      ],
      "metadata": {
        "colab": {
          "base_uri": "https://localhost:8080/",
          "height": 300
        },
        "id": "urm4NFwqv7gS",
        "outputId": "c650cf95-4933-45fd-e370-feb9285d2494"
      },
      "execution_count": 2,
      "outputs": [
        {
          "output_type": "execute_result",
          "data": {
            "text/plain": [
              "   age  income  custcat\n",
              "0   44    64.0        1\n",
              "1   33   136.0        4\n",
              "2   52   116.0        3\n",
              "3   33    33.0        1\n",
              "4   30    30.0        3\n",
              "5   39    78.0        3\n",
              "6   22    19.0        2\n",
              "7   35    76.0        4"
            ],
            "text/html": [
              "\n",
              "  <div id=\"df-a2f846bc-4f91-4a32-b304-3f6634a56209\" class=\"colab-df-container\">\n",
              "    <div>\n",
              "<style scoped>\n",
              "    .dataframe tbody tr th:only-of-type {\n",
              "        vertical-align: middle;\n",
              "    }\n",
              "\n",
              "    .dataframe tbody tr th {\n",
              "        vertical-align: top;\n",
              "    }\n",
              "\n",
              "    .dataframe thead th {\n",
              "        text-align: right;\n",
              "    }\n",
              "</style>\n",
              "<table border=\"1\" class=\"dataframe\">\n",
              "  <thead>\n",
              "    <tr style=\"text-align: right;\">\n",
              "      <th></th>\n",
              "      <th>age</th>\n",
              "      <th>income</th>\n",
              "      <th>custcat</th>\n",
              "    </tr>\n",
              "  </thead>\n",
              "  <tbody>\n",
              "    <tr>\n",
              "      <th>0</th>\n",
              "      <td>44</td>\n",
              "      <td>64.0</td>\n",
              "      <td>1</td>\n",
              "    </tr>\n",
              "    <tr>\n",
              "      <th>1</th>\n",
              "      <td>33</td>\n",
              "      <td>136.0</td>\n",
              "      <td>4</td>\n",
              "    </tr>\n",
              "    <tr>\n",
              "      <th>2</th>\n",
              "      <td>52</td>\n",
              "      <td>116.0</td>\n",
              "      <td>3</td>\n",
              "    </tr>\n",
              "    <tr>\n",
              "      <th>3</th>\n",
              "      <td>33</td>\n",
              "      <td>33.0</td>\n",
              "      <td>1</td>\n",
              "    </tr>\n",
              "    <tr>\n",
              "      <th>4</th>\n",
              "      <td>30</td>\n",
              "      <td>30.0</td>\n",
              "      <td>3</td>\n",
              "    </tr>\n",
              "    <tr>\n",
              "      <th>5</th>\n",
              "      <td>39</td>\n",
              "      <td>78.0</td>\n",
              "      <td>3</td>\n",
              "    </tr>\n",
              "    <tr>\n",
              "      <th>6</th>\n",
              "      <td>22</td>\n",
              "      <td>19.0</td>\n",
              "      <td>2</td>\n",
              "    </tr>\n",
              "    <tr>\n",
              "      <th>7</th>\n",
              "      <td>35</td>\n",
              "      <td>76.0</td>\n",
              "      <td>4</td>\n",
              "    </tr>\n",
              "  </tbody>\n",
              "</table>\n",
              "</div>\n",
              "    <div class=\"colab-df-buttons\">\n",
              "\n",
              "  <div class=\"colab-df-container\">\n",
              "    <button class=\"colab-df-convert\" onclick=\"convertToInteractive('df-a2f846bc-4f91-4a32-b304-3f6634a56209')\"\n",
              "            title=\"Convert this dataframe to an interactive table.\"\n",
              "            style=\"display:none;\">\n",
              "\n",
              "  <svg xmlns=\"http://www.w3.org/2000/svg\" height=\"24px\" viewBox=\"0 -960 960 960\">\n",
              "    <path d=\"M120-120v-720h720v720H120Zm60-500h600v-160H180v160Zm220 220h160v-160H400v160Zm0 220h160v-160H400v160ZM180-400h160v-160H180v160Zm440 0h160v-160H620v160ZM180-180h160v-160H180v160Zm440 0h160v-160H620v160Z\"/>\n",
              "  </svg>\n",
              "    </button>\n",
              "\n",
              "  <style>\n",
              "    .colab-df-container {\n",
              "      display:flex;\n",
              "      gap: 12px;\n",
              "    }\n",
              "\n",
              "    .colab-df-convert {\n",
              "      background-color: #E8F0FE;\n",
              "      border: none;\n",
              "      border-radius: 50%;\n",
              "      cursor: pointer;\n",
              "      display: none;\n",
              "      fill: #1967D2;\n",
              "      height: 32px;\n",
              "      padding: 0 0 0 0;\n",
              "      width: 32px;\n",
              "    }\n",
              "\n",
              "    .colab-df-convert:hover {\n",
              "      background-color: #E2EBFA;\n",
              "      box-shadow: 0px 1px 2px rgba(60, 64, 67, 0.3), 0px 1px 3px 1px rgba(60, 64, 67, 0.15);\n",
              "      fill: #174EA6;\n",
              "    }\n",
              "\n",
              "    .colab-df-buttons div {\n",
              "      margin-bottom: 4px;\n",
              "    }\n",
              "\n",
              "    [theme=dark] .colab-df-convert {\n",
              "      background-color: #3B4455;\n",
              "      fill: #D2E3FC;\n",
              "    }\n",
              "\n",
              "    [theme=dark] .colab-df-convert:hover {\n",
              "      background-color: #434B5C;\n",
              "      box-shadow: 0px 1px 3px 1px rgba(0, 0, 0, 0.15);\n",
              "      filter: drop-shadow(0px 1px 2px rgba(0, 0, 0, 0.3));\n",
              "      fill: #FFFFFF;\n",
              "    }\n",
              "  </style>\n",
              "\n",
              "    <script>\n",
              "      const buttonEl =\n",
              "        document.querySelector('#df-a2f846bc-4f91-4a32-b304-3f6634a56209 button.colab-df-convert');\n",
              "      buttonEl.style.display =\n",
              "        google.colab.kernel.accessAllowed ? 'block' : 'none';\n",
              "\n",
              "      async function convertToInteractive(key) {\n",
              "        const element = document.querySelector('#df-a2f846bc-4f91-4a32-b304-3f6634a56209');\n",
              "        const dataTable =\n",
              "          await google.colab.kernel.invokeFunction('convertToInteractive',\n",
              "                                                    [key], {});\n",
              "        if (!dataTable) return;\n",
              "\n",
              "        const docLinkHtml = 'Like what you see? Visit the ' +\n",
              "          '<a target=\"_blank\" href=https://colab.research.google.com/notebooks/data_table.ipynb>data table notebook</a>'\n",
              "          + ' to learn more about interactive tables.';\n",
              "        element.innerHTML = '';\n",
              "        dataTable['output_type'] = 'display_data';\n",
              "        await google.colab.output.renderOutput(dataTable, element);\n",
              "        const docLink = document.createElement('div');\n",
              "        docLink.innerHTML = docLinkHtml;\n",
              "        element.appendChild(docLink);\n",
              "      }\n",
              "    </script>\n",
              "  </div>\n",
              "\n",
              "\n",
              "<div id=\"df-be8c6b22-f6e0-4b69-8e15-9bcfd5f3a36e\">\n",
              "  <button class=\"colab-df-quickchart\" onclick=\"quickchart('df-be8c6b22-f6e0-4b69-8e15-9bcfd5f3a36e')\"\n",
              "            title=\"Suggest charts\"\n",
              "            style=\"display:none;\">\n",
              "\n",
              "<svg xmlns=\"http://www.w3.org/2000/svg\" height=\"24px\"viewBox=\"0 0 24 24\"\n",
              "     width=\"24px\">\n",
              "    <g>\n",
              "        <path d=\"M19 3H5c-1.1 0-2 .9-2 2v14c0 1.1.9 2 2 2h14c1.1 0 2-.9 2-2V5c0-1.1-.9-2-2-2zM9 17H7v-7h2v7zm4 0h-2V7h2v10zm4 0h-2v-4h2v4z\"/>\n",
              "    </g>\n",
              "</svg>\n",
              "  </button>\n",
              "\n",
              "<style>\n",
              "  .colab-df-quickchart {\n",
              "      --bg-color: #E8F0FE;\n",
              "      --fill-color: #1967D2;\n",
              "      --hover-bg-color: #E2EBFA;\n",
              "      --hover-fill-color: #174EA6;\n",
              "      --disabled-fill-color: #AAA;\n",
              "      --disabled-bg-color: #DDD;\n",
              "  }\n",
              "\n",
              "  [theme=dark] .colab-df-quickchart {\n",
              "      --bg-color: #3B4455;\n",
              "      --fill-color: #D2E3FC;\n",
              "      --hover-bg-color: #434B5C;\n",
              "      --hover-fill-color: #FFFFFF;\n",
              "      --disabled-bg-color: #3B4455;\n",
              "      --disabled-fill-color: #666;\n",
              "  }\n",
              "\n",
              "  .colab-df-quickchart {\n",
              "    background-color: var(--bg-color);\n",
              "    border: none;\n",
              "    border-radius: 50%;\n",
              "    cursor: pointer;\n",
              "    display: none;\n",
              "    fill: var(--fill-color);\n",
              "    height: 32px;\n",
              "    padding: 0;\n",
              "    width: 32px;\n",
              "  }\n",
              "\n",
              "  .colab-df-quickchart:hover {\n",
              "    background-color: var(--hover-bg-color);\n",
              "    box-shadow: 0 1px 2px rgba(60, 64, 67, 0.3), 0 1px 3px 1px rgba(60, 64, 67, 0.15);\n",
              "    fill: var(--button-hover-fill-color);\n",
              "  }\n",
              "\n",
              "  .colab-df-quickchart-complete:disabled,\n",
              "  .colab-df-quickchart-complete:disabled:hover {\n",
              "    background-color: var(--disabled-bg-color);\n",
              "    fill: var(--disabled-fill-color);\n",
              "    box-shadow: none;\n",
              "  }\n",
              "\n",
              "  .colab-df-spinner {\n",
              "    border: 2px solid var(--fill-color);\n",
              "    border-color: transparent;\n",
              "    border-bottom-color: var(--fill-color);\n",
              "    animation:\n",
              "      spin 1s steps(1) infinite;\n",
              "  }\n",
              "\n",
              "  @keyframes spin {\n",
              "    0% {\n",
              "      border-color: transparent;\n",
              "      border-bottom-color: var(--fill-color);\n",
              "      border-left-color: var(--fill-color);\n",
              "    }\n",
              "    20% {\n",
              "      border-color: transparent;\n",
              "      border-left-color: var(--fill-color);\n",
              "      border-top-color: var(--fill-color);\n",
              "    }\n",
              "    30% {\n",
              "      border-color: transparent;\n",
              "      border-left-color: var(--fill-color);\n",
              "      border-top-color: var(--fill-color);\n",
              "      border-right-color: var(--fill-color);\n",
              "    }\n",
              "    40% {\n",
              "      border-color: transparent;\n",
              "      border-right-color: var(--fill-color);\n",
              "      border-top-color: var(--fill-color);\n",
              "    }\n",
              "    60% {\n",
              "      border-color: transparent;\n",
              "      border-right-color: var(--fill-color);\n",
              "    }\n",
              "    80% {\n",
              "      border-color: transparent;\n",
              "      border-right-color: var(--fill-color);\n",
              "      border-bottom-color: var(--fill-color);\n",
              "    }\n",
              "    90% {\n",
              "      border-color: transparent;\n",
              "      border-bottom-color: var(--fill-color);\n",
              "    }\n",
              "  }\n",
              "</style>\n",
              "\n",
              "  <script>\n",
              "    async function quickchart(key) {\n",
              "      const quickchartButtonEl =\n",
              "        document.querySelector('#' + key + ' button');\n",
              "      quickchartButtonEl.disabled = true;  // To prevent multiple clicks.\n",
              "      quickchartButtonEl.classList.add('colab-df-spinner');\n",
              "      try {\n",
              "        const charts = await google.colab.kernel.invokeFunction(\n",
              "            'suggestCharts', [key], {});\n",
              "      } catch (error) {\n",
              "        console.error('Error during call to suggestCharts:', error);\n",
              "      }\n",
              "      quickchartButtonEl.classList.remove('colab-df-spinner');\n",
              "      quickchartButtonEl.classList.add('colab-df-quickchart-complete');\n",
              "    }\n",
              "    (() => {\n",
              "      let quickchartButtonEl =\n",
              "        document.querySelector('#df-be8c6b22-f6e0-4b69-8e15-9bcfd5f3a36e button');\n",
              "      quickchartButtonEl.style.display =\n",
              "        google.colab.kernel.accessAllowed ? 'block' : 'none';\n",
              "    })();\n",
              "  </script>\n",
              "</div>\n",
              "\n",
              "    </div>\n",
              "  </div>\n"
            ],
            "application/vnd.google.colaboratory.intrinsic+json": {
              "type": "dataframe",
              "variable_name": "df",
              "summary": "{\n  \"name\": \"df\",\n  \"rows\": 49,\n  \"fields\": [\n    {\n      \"column\": \"age\",\n      \"properties\": {\n        \"dtype\": \"number\",\n        \"std\": 10,\n        \"min\": 21,\n        \"max\": 60,\n        \"num_unique_values\": 27,\n        \"samples\": [\n          38,\n          24,\n          54\n        ],\n        \"semantic_type\": \"\",\n        \"description\": \"\"\n      }\n    },\n    {\n      \"column\": \"income\",\n      \"properties\": {\n        \"dtype\": \"number\",\n        \"std\": 49.5283966511125,\n        \"min\": 16.0,\n        \"max\": 211.0,\n        \"num_unique_values\": 40,\n        \"samples\": [\n          16.0,\n          49.0,\n          162.0\n        ],\n        \"semantic_type\": \"\",\n        \"description\": \"\"\n      }\n    },\n    {\n      \"column\": \"custcat\",\n      \"properties\": {\n        \"dtype\": \"number\",\n        \"std\": 1,\n        \"min\": 1,\n        \"max\": 4,\n        \"num_unique_values\": 4,\n        \"samples\": [\n          4,\n          2,\n          1\n        ],\n        \"semantic_type\": \"\",\n        \"description\": \"\"\n      }\n    }\n  ]\n}"
            }
          },
          "metadata": {},
          "execution_count": 2
        }
      ]
    },
    {
      "cell_type": "markdown",
      "source": [
        "- We went to predict the `custcat` for a customer whose `age` is 50 and whose income is `166`\n",
        "- If we choose `k=1`, we can see that the nearest neighbour is in class 4\n",
        "- If we choose `k=5`, and do a majority vote, we get class 3"
      ],
      "metadata": {
        "id": "xJbrgAUl0KU7"
      }
    },
    {
      "cell_type": "code",
      "source": [
        "plt.figure(figsize=(10, 10))\n",
        "sns.scatterplot(df,\n",
        "                x='age',\n",
        "                y='income',\n",
        "                hue='custcat',\n",
        "                palette=['red', 'green', 'blue', 'orange'])\n",
        "plt.scatter(50, 166, marker='*', s=150, c='black', label='Want to predict `custcat`')\n",
        "plt.legend();"
      ],
      "metadata": {
        "colab": {
          "base_uri": "https://localhost:8080/",
          "height": 850
        },
        "id": "UqtkmKV_umny",
        "outputId": "9da83dbb-e898-4b6e-c327-8f5c2c699e4c"
      },
      "execution_count": 3,
      "outputs": [
        {
          "output_type": "display_data",
          "data": {
            "text/plain": [
              "<Figure size 1000x1000 with 1 Axes>"
            ],
            "image/png": "[encoded data removed]"
          },
          "metadata": {}
        }
      ]
    },
    {
      "cell_type": "markdown",
      "source": [
        "### What is k-Nearest Neighbor (KNN)?\n",
        "\n",
        "- It is a classification algorithm that takes a bunch of labeled points and uses them to learn how to classify other points\n",
        "- The algorithm classifies cases based on their similarity to other cases\n",
        "- In KNN, data points that are near each other are said to be neighbors\n",
        "- Similar cases with the same class labels are near each other\n",
        "    - Thus, the distance between two cases is a measure of their dissimilarity\n",
        "- Different ways to calculate the similarity, or conversely, the dissimilarity or distance of two data points\n",
        "    - Euclidean distance is only one way"
      ],
      "metadata": {
        "id": "8DZp6s2P4Lqj"
      }
    },
    {
      "cell_type": "markdown",
      "source": [
        "### The k-Nearest Neighbors Algorithm\n",
        "\n",
        "1. Pick a value for `k`\n",
        "2. Calculate the distance of the unknown case from all cases\n",
        "3. Search for the `k` observations in the training data that are *nearest* to the unknown data point\n",
        "4. Predict the response of the unknown data point using the most popular response value from the k-nearest neighbors\n"
      ],
      "metadata": {
        "id": "Tt24cvrn5za9"
      }
    },
    {
      "cell_type": "markdown",
      "source": [
        "### Euclidean Distance\n",
        "\n",
        "$$\n",
        "Dis(x_1, x_2) = \\sqrt{\\sum_{i=0}^{n}\\left(x_{1i} - x_{2i}\\right)^{2}}\n",
        "$$"
      ],
      "metadata": {
        "id": "wg7WOCpF7mrX"
      }
    },
    {
      "cell_type": "code",
      "source": [
        "df[:2]"
      ],
      "metadata": {
        "colab": {
          "base_uri": "https://localhost:8080/",
          "height": 112
        },
        "id": "RSgEa4b38BIr",
        "outputId": "9970d2fe-baf6-46e1-be72-a481569fbc7f"
      },
      "execution_count": 4,
      "outputs": [
        {
          "output_type": "execute_result",
          "data": {
            "text/plain": [
              "   age  income  custcat\n",
              "0   44    64.0        1\n",
              "1   33   136.0        4"
            ],
            "text/html": [
              "\n",
              "  <div id=\"df-9082f20d-9e7a-40ae-a3ca-232a747624b6\" class=\"colab-df-container\">\n",
              "    <div>\n",
              "<style scoped>\n",
              "    .dataframe tbody tr th:only-of-type {\n",
              "        vertical-align: middle;\n",
              "    }\n",
              "\n",
              "    .dataframe tbody tr th {\n",
              "        vertical-align: top;\n",
              "    }\n",
              "\n",
              "    .dataframe thead th {\n",
              "        text-align: right;\n",
              "    }\n",
              "</style>\n",
              "<table border=\"1\" class=\"dataframe\">\n",
              "  <thead>\n",
              "    <tr style=\"text-align: right;\">\n",
              "      <th></th>\n",
              "      <th>age</th>\n",
              "      <th>income</th>\n",
              "      <th>custcat</th>\n",
              "    </tr>\n",
              "  </thead>\n",
              "  <tbody>\n",
              "    <tr>\n",
              "      <th>0</th>\n",
              "      <td>44</td>\n",
              "      <td>64.0</td>\n",
              "      <td>1</td>\n",
              "    </tr>\n",
              "    <tr>\n",
              "      <th>1</th>\n",
              "      <td>33</td>\n",
              "      <td>136.0</td>\n",
              "      <td>4</td>\n",
              "    </tr>\n",
              "  </tbody>\n",
              "</table>\n",
              "</div>\n",
              "    <div class=\"colab-df-buttons\">\n",
              "\n",
              "  <div class=\"colab-df-container\">\n",
              "    <button class=\"colab-df-convert\" onclick=\"convertToInteractive('df-9082f20d-9e7a-40ae-a3ca-232a747624b6')\"\n",
              "            title=\"Convert this dataframe to an interactive table.\"\n",
              "            style=\"display:none;\">\n",
              "\n",
              "  <svg xmlns=\"http://www.w3.org/2000/svg\" height=\"24px\" viewBox=\"0 -960 960 960\">\n",
              "    <path d=\"M120-120v-720h720v720H120Zm60-500h600v-160H180v160Zm220 220h160v-160H400v160Zm0 220h160v-160H400v160ZM180-400h160v-160H180v160Zm440 0h160v-160H620v160ZM180-180h160v-160H180v160Zm440 0h160v-160H620v160Z\"/>\n",
              "  </svg>\n",
              "    </button>\n",
              "\n",
              "  <style>\n",
              "    .colab-df-container {\n",
              "      display:flex;\n",
              "      gap: 12px;\n",
              "    }\n",
              "\n",
              "    .colab-df-convert {\n",
              "      background-color: #E8F0FE;\n",
              "      border: none;\n",
              "      border-radius: 50%;\n",
              "      cursor: pointer;\n",
              "      display: none;\n",
              "      fill: #1967D2;\n",
              "      height: 32px;\n",
              "      padding: 0 0 0 0;\n",
              "      width: 32px;\n",
              "    }\n",
              "\n",
              "    .colab-df-convert:hover {\n",
              "      background-color: #E2EBFA;\n",
              "      box-shadow: 0px 1px 2px rgba(60, 64, 67, 0.3), 0px 1px 3px 1px rgba(60, 64, 67, 0.15);\n",
              "      fill: #174EA6;\n",
              "    }\n",
              "\n",
              "    .colab-df-buttons div {\n",
              "      margin-bottom: 4px;\n",
              "    }\n",
              "\n",
              "    [theme=dark] .colab-df-convert {\n",
              "      background-color: #3B4455;\n",
              "      fill: #D2E3FC;\n",
              "    }\n",
              "\n",
              "    [theme=dark] .colab-df-convert:hover {\n",
              "      background-color: #434B5C;\n",
              "      box-shadow: 0px 1px 3px 1px rgba(0, 0, 0, 0.15);\n",
              "      filter: drop-shadow(0px 1px 2px rgba(0, 0, 0, 0.3));\n",
              "      fill: #FFFFFF;\n",
              "    }\n",
              "  </style>\n",
              "\n",
              "    <script>\n",
              "      const buttonEl =\n",
              "        document.querySelector('#df-9082f20d-9e7a-40ae-a3ca-232a747624b6 button.colab-df-convert');\n",
              "      buttonEl.style.display =\n",
              "        google.colab.kernel.accessAllowed ? 'block' : 'none';\n",
              "\n",
              "      async function convertToInteractive(key) {\n",
              "        const element = document.querySelector('#df-9082f20d-9e7a-40ae-a3ca-232a747624b6');\n",
              "        const dataTable =\n",
              "          await google.colab.kernel.invokeFunction('convertToInteractive',\n",
              "                                                    [key], {});\n",
              "        if (!dataTable) return;\n",
              "\n",
              "        const docLinkHtml = 'Like what you see? Visit the ' +\n",
              "          '<a target=\"_blank\" href=https://colab.research.google.com/notebooks/data_table.ipynb>data table notebook</a>'\n",
              "          + ' to learn more about interactive tables.';\n",
              "        element.innerHTML = '';\n",
              "        dataTable['output_type'] = 'display_data';\n",
              "        await google.colab.output.renderOutput(dataTable, element);\n",
              "        const docLink = document.createElement('div');\n",
              "        docLink.innerHTML = docLinkHtml;\n",
              "        element.appendChild(docLink);\n",
              "      }\n",
              "    </script>\n",
              "  </div>\n",
              "\n",
              "\n",
              "<div id=\"df-5850fffa-3b52-4867-9af7-e65964f0dc0f\">\n",
              "  <button class=\"colab-df-quickchart\" onclick=\"quickchart('df-5850fffa-3b52-4867-9af7-e65964f0dc0f')\"\n",
              "            title=\"Suggest charts\"\n",
              "            style=\"display:none;\">\n",
              "\n",
              "<svg xmlns=\"http://www.w3.org/2000/svg\" height=\"24px\"viewBox=\"0 0 24 24\"\n",
              "     width=\"24px\">\n",
              "    <g>\n",
              "        <path d=\"M19 3H5c-1.1 0-2 .9-2 2v14c0 1.1.9 2 2 2h14c1.1 0 2-.9 2-2V5c0-1.1-.9-2-2-2zM9 17H7v-7h2v7zm4 0h-2V7h2v10zm4 0h-2v-4h2v4z\"/>\n",
              "    </g>\n",
              "</svg>\n",
              "  </button>\n",
              "\n",
              "<style>\n",
              "  .colab-df-quickchart {\n",
              "      --bg-color: #E8F0FE;\n",
              "      --fill-color: #1967D2;\n",
              "      --hover-bg-color: #E2EBFA;\n",
              "      --hover-fill-color: #174EA6;\n",
              "      --disabled-fill-color: #AAA;\n",
              "      --disabled-bg-color: #DDD;\n",
              "  }\n",
              "\n",
              "  [theme=dark] .colab-df-quickchart {\n",
              "      --bg-color: #3B4455;\n",
              "      --fill-color: #D2E3FC;\n",
              "      --hover-bg-color: #434B5C;\n",
              "      --hover-fill-color: #FFFFFF;\n",
              "      --disabled-bg-color: #3B4455;\n",
              "      --disabled-fill-color: #666;\n",
              "  }\n",
              "\n",
              "  .colab-df-quickchart {\n",
              "    background-color: var(--bg-color);\n",
              "    border: none;\n",
              "    border-radius: 50%;\n",
              "    cursor: pointer;\n",
              "    display: none;\n",
              "    fill: var(--fill-color);\n",
              "    height: 32px;\n",
              "    padding: 0;\n",
              "    width: 32px;\n",
              "  }\n",
              "\n",
              "  .colab-df-quickchart:hover {\n",
              "    background-color: var(--hover-bg-color);\n",
              "    box-shadow: 0 1px 2px rgba(60, 64, 67, 0.3), 0 1px 3px 1px rgba(60, 64, 67, 0.15);\n",
              "    fill: var(--button-hover-fill-color);\n",
              "  }\n",
              "\n",
              "  .colab-df-quickchart-complete:disabled,\n",
              "  .colab-df-quickchart-complete:disabled:hover {\n",
              "    background-color: var(--disabled-bg-color);\n",
              "    fill: var(--disabled-fill-color);\n",
              "    box-shadow: none;\n",
              "  }\n",
              "\n",
              "  .colab-df-spinner {\n",
              "    border: 2px solid var(--fill-color);\n",
              "    border-color: transparent;\n",
              "    border-bottom-color: var(--fill-color);\n",
              "    animation:\n",
              "      spin 1s steps(1) infinite;\n",
              "  }\n",
              "\n",
              "  @keyframes spin {\n",
              "    0% {\n",
              "      border-color: transparent;\n",
              "      border-bottom-color: var(--fill-color);\n",
              "      border-left-color: var(--fill-color);\n",
              "    }\n",
              "    20% {\n",
              "      border-color: transparent;\n",
              "      border-left-color: var(--fill-color);\n",
              "      border-top-color: var(--fill-color);\n",
              "    }\n",
              "    30% {\n",
              "      border-color: transparent;\n",
              "      border-left-color: var(--fill-color);\n",
              "      border-top-color: var(--fill-color);\n",
              "      border-right-color: var(--fill-color);\n",
              "    }\n",
              "    40% {\n",
              "      border-color: transparent;\n",
              "      border-right-color: var(--fill-color);\n",
              "      border-top-color: var(--fill-color);\n",
              "    }\n",
              "    60% {\n",
              "      border-color: transparent;\n",
              "      border-right-color: var(--fill-color);\n",
              "    }\n",
              "    80% {\n",
              "      border-color: transparent;\n",
              "      border-right-color: var(--fill-color);\n",
              "      border-bottom-color: var(--fill-color);\n",
              "    }\n",
              "    90% {\n",
              "      border-color: transparent;\n",
              "      border-bottom-color: var(--fill-color);\n",
              "    }\n",
              "  }\n",
              "</style>\n",
              "\n",
              "  <script>\n",
              "    async function quickchart(key) {\n",
              "      const quickchartButtonEl =\n",
              "        document.querySelector('#' + key + ' button');\n",
              "      quickchartButtonEl.disabled = true;  // To prevent multiple clicks.\n",
              "      quickchartButtonEl.classList.add('colab-df-spinner');\n",
              "      try {\n",
              "        const charts = await google.colab.kernel.invokeFunction(\n",
              "            'suggestCharts', [key], {});\n",
              "      } catch (error) {\n",
              "        console.error('Error during call to suggestCharts:', error);\n",
              "      }\n",
              "      quickchartButtonEl.classList.remove('colab-df-spinner');\n",
              "      quickchartButtonEl.classList.add('colab-df-quickchart-complete');\n",
              "    }\n",
              "    (() => {\n",
              "      let quickchartButtonEl =\n",
              "        document.querySelector('#df-5850fffa-3b52-4867-9af7-e65964f0dc0f button');\n",
              "      quickchartButtonEl.style.display =\n",
              "        google.colab.kernel.accessAllowed ? 'block' : 'none';\n",
              "    })();\n",
              "  </script>\n",
              "</div>\n",
              "\n",
              "    </div>\n",
              "  </div>\n"
            ],
            "application/vnd.google.colaboratory.intrinsic+json": {
              "type": "dataframe",
              "summary": "{\n  \"name\": \"df[:2]\",\n  \"rows\": 2,\n  \"fields\": [\n    {\n      \"column\": \"age\",\n      \"properties\": {\n        \"dtype\": \"number\",\n        \"std\": 7,\n        \"min\": 33,\n        \"max\": 44,\n        \"num_unique_values\": 2,\n        \"samples\": [\n          33,\n          44\n        ],\n        \"semantic_type\": \"\",\n        \"description\": \"\"\n      }\n    },\n    {\n      \"column\": \"income\",\n      \"properties\": {\n        \"dtype\": \"number\",\n        \"std\": 50.91168824543142,\n        \"min\": 64.0,\n        \"max\": 136.0,\n        \"num_unique_values\": 2,\n        \"samples\": [\n          136.0,\n          64.0\n        ],\n        \"semantic_type\": \"\",\n        \"description\": \"\"\n      }\n    },\n    {\n      \"column\": \"custcat\",\n      \"properties\": {\n        \"dtype\": \"number\",\n        \"std\": 2,\n        \"min\": 1,\n        \"max\": 4,\n        \"num_unique_values\": 2,\n        \"samples\": [\n          4,\n          1\n        ],\n        \"semantic_type\": \"\",\n        \"description\": \"\"\n      }\n    }\n  ]\n}"
            }
          },
          "metadata": {},
          "execution_count": 4
        }
      ]
    },
    {
      "cell_type": "markdown",
      "source": [
        "$$\n",
        "\\begin{align}\n",
        "Dis(x_1, x_2) &= \\sqrt{\\left(44 - 33\\right)^2 + \\left(64 - 136\\right)^{2}} \\\\\n",
        "&= \\sqrt{11^{2} - (-72)^{2}} \\\\\n",
        "&= \\sqrt{121 + 5184} \\\\\n",
        "&= \\sqrt{5305} \\\\\n",
        "&= 72.8\n",
        "\\end{align}\n",
        "$$"
      ],
      "metadata": {
        "id": "UF9a5mWu8SC6"
      }
    },
    {
      "cell_type": "code",
      "source": [
        "dis = lambda x1, x2: np.sqrt(np.sum((x1 - x2)**2))\n",
        "\n",
        "row1 = df.iloc[0, :-1]\n",
        "row2 = df.iloc[1, :-1]\n",
        "dis(row1, row2)"
      ],
      "metadata": {
        "colab": {
          "base_uri": "https://localhost:8080/"
        },
        "id": "ZmXNdI0b9_CQ",
        "outputId": "bb1d64f9-b6e6-47e5-bf6b-a1224c0c714b"
      },
      "execution_count": 5,
      "outputs": [
        {
          "output_type": "execute_result",
          "data": {
            "text/plain": [
              "72.83543093852057"
            ]
          },
          "metadata": {},
          "execution_count": 5
        }
      ]
    },
    {
      "cell_type": "code",
      "source": [
        "# suppose the third parameter is education\n",
        "row1 = np.array([34, 190, 3])\n",
        "row2 = np.array([30, 200, 8])\n",
        "\n",
        "dis(row1, row2)"
      ],
      "metadata": {
        "colab": {
          "base_uri": "https://localhost:8080/"
        },
        "id": "ToyMm35iAb67",
        "outputId": "502216ab-f3b4-498b-d688-4c49de3f7d9a"
      },
      "execution_count": 6,
      "outputs": [
        {
          "output_type": "execute_result",
          "data": {
            "text/plain": [
              "11.874342087037917"
            ]
          },
          "metadata": {},
          "execution_count": 6
        }
      ]
    },
    {
      "cell_type": "markdown",
      "source": [
        "### How to choose `k`\n",
        "\n",
        "- A low value of `k` causes a highly complex model, which might result in overfitting\n",
        "- A high value of `k`, then the model becomes overly generalized\n",
        "- How to choose `k`\n",
        "    - Reserve a part of your data for testing the accuracy of your model\n",
        "    - Plot `accuracy` vs. `k` for a number of values of `k`"
      ],
      "metadata": {
        "id": "TnkCa-8SAuFj"
      }
    },
    {
      "cell_type": "markdown",
      "source": [
        "### Computing continuous targets using KNN\n",
        "\n",
        "- KNN can also be used for regression\n",
        "- In this situation, instead of a majority vote, use the mean or median to obtain the predicted value"
      ],
      "metadata": {
        "id": "uhqt82iqCnkE"
      }
    },
    {
      "cell_type": "markdown",
      "source": [
        "## 1.3.1.3 Evaluation Metrics in Classification"
      ],
      "metadata": {
        "id": "KTfrjDUFDUJA"
      }
    },
    {
      "cell_type": "code",
      "source": [
        "y_true = np.array([0, 0, 0, 0, 0, 0, 0, 0, 0, 0,\n",
        "                   0, 0, 0, 0, 0, 1, 1, 1, 1, 1,\n",
        "                   1, 1, 1, 1, 1, 1, 1, 1, 1, 1,\n",
        "                   1, 1, 1, 1, 1, 1, 1, 1, 1, 1])\n",
        "y_predicted = np.array([0, 0, 0, 0, 0, 0, 1, 1, 1, 1,\n",
        "                        1, 1, 1, 1, 1, 0, 1, 1, 1, 1,\n",
        "                        1, 1, 1, 1, 1, 1, 1, 1, 1, 1,\n",
        "                        1, 1, 1, 1, 1, 1, 1, 1, 1, 1])"
      ],
      "metadata": {
        "id": "j8FbwVbMlBqV"
      },
      "execution_count": 7,
      "outputs": []
    },
    {
      "cell_type": "markdown",
      "source": [
        "### Jaccard Index\n",
        "\n",
        "- This score is between 0 and 1, with 1 being a perfect match"
      ],
      "metadata": {
        "id": "xQYgXt5wPP2P"
      }
    },
    {
      "cell_type": "markdown",
      "source": [
        "$$\n",
        "J\\left(y, \\widehat{y}\\right) = \\frac{\\lvert y \\cap \\widehat{y} \\rvert}{\\lvert y \\cup \\widehat{y} \\rvert} = \\frac{\\lvert y \\cap \\widehat{y} \\rvert}{\\lvert y \\rvert + \\vert \\widehat{y} \\rvert - \\lvert y \\cap \\widehat{y} \\rvert}\n",
        "$$"
      ],
      "metadata": {
        "id": "zkUvg3L-PSyf"
      }
    },
    {
      "cell_type": "code",
      "source": [
        "jaccard_score(y_true, y_predicted, average='micro')"
      ],
      "metadata": {
        "colab": {
          "base_uri": "https://localhost:8080/"
        },
        "id": "aU0G-65uTWNc",
        "outputId": "fa06e67a-ee35-4457-e8bb-afb5cf577859"
      },
      "execution_count": 8,
      "outputs": [
        {
          "output_type": "execute_result",
          "data": {
            "text/plain": [
              "0.6"
            ]
          },
          "metadata": {},
          "execution_count": 8
        }
      ]
    },
    {
      "cell_type": "code",
      "source": [
        "y_intersect_y_hat = (y_true == y_predicted).sum()\n",
        "len_y = len(y_true)\n",
        "len_y_hat = len(y_predicted)\n",
        "\n",
        "print(y_intersect_y_hat, len_y, len_y_hat)\n",
        "\n",
        "J = y_intersect_y_hat / (len_y + len_y_hat - y_intersect_y_hat)\n",
        "J"
      ],
      "metadata": {
        "colab": {
          "base_uri": "https://localhost:8080/"
        },
        "id": "ZxoWPnlnUCQO",
        "outputId": "e995728c-9871-41f3-943d-5a0f1c9ceea5"
      },
      "execution_count": 9,
      "outputs": [
        {
          "output_type": "stream",
          "name": "stdout",
          "text": [
            "30 40 40\n"
          ]
        },
        {
          "output_type": "execute_result",
          "data": {
            "text/plain": [
              "0.6"
            ]
          },
          "metadata": {},
          "execution_count": 9
        }
      ]
    },
    {
      "cell_type": "markdown",
      "source": [
        "### Confusion Matrix"
      ],
      "metadata": {
        "id": "wdHUHyO1gG65"
      }
    },
    {
      "cell_type": "code",
      "source": [
        "print(np.array([['TN', 'FP'], ['FN', 'TP']]))"
      ],
      "metadata": {
        "colab": {
          "base_uri": "https://localhost:8080/"
        },
        "id": "wvEHG8xLhbgT",
        "outputId": "f9722ab6-2eec-424c-932c-9e63f660e0ac"
      },
      "execution_count": 10,
      "outputs": [
        {
          "output_type": "stream",
          "name": "stdout",
          "text": [
            "[['TN' 'FP']\n",
            " ['FN' 'TP']]\n"
          ]
        }
      ]
    },
    {
      "cell_type": "code",
      "source": [
        "cm = confusion_matrix(y_true, y_predicted)\n",
        "tn = cm[0, 0]\n",
        "fp = cm[0, 1]\n",
        "fn = cm[1, 0]\n",
        "tp = cm[1, 1]\n",
        "np.array([[tn, fp],\n",
        "          [fn, tp]])"
      ],
      "metadata": {
        "colab": {
          "base_uri": "https://localhost:8080/"
        },
        "id": "pBXZo4C7gKBS",
        "outputId": "512d01fe-2ead-4804-80f9-50ba2a85455d"
      },
      "execution_count": 11,
      "outputs": [
        {
          "output_type": "execute_result",
          "data": {
            "text/plain": [
              "array([[ 6,  9],\n",
              "       [ 1, 24]])"
            ]
          },
          "metadata": {},
          "execution_count": 11
        }
      ]
    },
    {
      "cell_type": "code",
      "source": [
        "ConfusionMatrixDisplay(cm).plot();"
      ],
      "metadata": {
        "colab": {
          "base_uri": "https://localhost:8080/",
          "height": 449
        },
        "id": "A4Jjs_jag_qC",
        "outputId": "33b593c2-8b27-442e-9631-fd67b1d93356"
      },
      "execution_count": 12,
      "outputs": [
        {
          "output_type": "display_data",
          "data": {
            "text/plain": [
              "<Figure size 640x480 with 2 Axes>"
            ],
            "image/png": "[encoded data removed]"
          },
          "metadata": {}
        }
      ]
    },
    {
      "cell_type": "markdown",
      "source": [
        "### Accuracy\n",
        "\n",
        "$$\n",
        "Accuracy = \\frac{TP + TN}{Total}\n",
        "$$"
      ],
      "metadata": {
        "id": "AyqPaBN5NPU0"
      }
    },
    {
      "cell_type": "code",
      "source": [
        "accuracy_score(y_true, y_predicted), (tp + tn) / (tp + tn + fp + fn)"
      ],
      "metadata": {
        "colab": {
          "base_uri": "https://localhost:8080/"
        },
        "id": "ZBeZHH6TN0aF",
        "outputId": "6532f9b9-5ff0-4aea-e0b5-a214a4351445"
      },
      "execution_count": 13,
      "outputs": [
        {
          "output_type": "execute_result",
          "data": {
            "text/plain": [
              "(0.75, 0.75)"
            ]
          },
          "metadata": {},
          "execution_count": 13
        }
      ]
    },
    {
      "cell_type": "code",
      "source": [
        "# manual calculation\n",
        "(y_true == y_predicted).sum() / len(y_true)"
      ],
      "metadata": {
        "colab": {
          "base_uri": "https://localhost:8080/"
        },
        "id": "SrFQj0XQN_sg",
        "outputId": "eb34d17c-5771-4fa4-fcef-9b9e7c6d422f"
      },
      "execution_count": 14,
      "outputs": [
        {
          "output_type": "execute_result",
          "data": {
            "text/plain": [
              "0.75"
            ]
          },
          "metadata": {},
          "execution_count": 14
        }
      ]
    },
    {
      "cell_type": "markdown",
      "source": [
        "### Precision\n",
        "\n",
        "$$\n",
        "Precision = \\frac{TP}{TP + FP}\n",
        "$$\n",
        "\n",
        "- The accuracy of positive predictions\n",
        "- Out of all those that wee\\re predicted to be positive (5s), what proportion did it get right?"
      ],
      "metadata": {
        "id": "M1-Sg-JRj1s8"
      }
    },
    {
      "cell_type": "code",
      "source": [
        "precision_score(y_true, y_predicted), tp / (tp + fp)"
      ],
      "metadata": {
        "colab": {
          "base_uri": "https://localhost:8080/"
        },
        "id": "qF0tzTPukQ6m",
        "outputId": "baea1ca5-1b24-4d24-afe8-08dfce083e16"
      },
      "execution_count": 15,
      "outputs": [
        {
          "output_type": "execute_result",
          "data": {
            "text/plain": [
              "(0.7272727272727273, 0.7272727272727273)"
            ]
          },
          "metadata": {},
          "execution_count": 15
        }
      ]
    },
    {
      "cell_type": "markdown",
      "source": [
        "### Recall\n",
        "\n",
        "$$\n",
        "Recall = \\frac{TP}{TP + FN}\n",
        "$$\n",
        "\n",
        "- The ratio of positive instances that are correctly detected\n",
        "- Also called sensitivity or TPR (True Positive Rate)\n",
        "- Out of all those that were actually positive (5s), how many did it get right?"
      ],
      "metadata": {
        "id": "oWoBGMcLkrlN"
      }
    },
    {
      "cell_type": "code",
      "source": [
        "recall_score(y_true, y_predicted), tp / (tp + fn)"
      ],
      "metadata": {
        "colab": {
          "base_uri": "https://localhost:8080/"
        },
        "id": "_mEbnaM1kygE",
        "outputId": "b7ab6cf4-724d-44ff-a918-aff88fb03906"
      },
      "execution_count": 16,
      "outputs": [
        {
          "output_type": "execute_result",
          "data": {
            "text/plain": [
              "(0.96, 0.96)"
            ]
          },
          "metadata": {},
          "execution_count": 16
        }
      ]
    },
    {
      "cell_type": "markdown",
      "source": [
        "### F1 Score\n",
        "\n",
        "$$\n",
        "F1 = 2\\times\\frac{precision \\times recall}{precision + recall}\n",
        "$$\n",
        "\n",
        "- The harmonic mean of precision and recall\n",
        "- Ranges from 0 to 1, with 1 being the best score\n",
        "- The F1 score favours classifiers that have similar precision and recall\n",
        "    - sometimes you care more about one than the other"
      ],
      "metadata": {
        "id": "HIFyDvFNqDR8"
      }
    },
    {
      "cell_type": "code",
      "source": [
        "f1_score(y_true, y_predicted)"
      ],
      "metadata": {
        "colab": {
          "base_uri": "https://localhost:8080/"
        },
        "id": "Fwne2a_oqG9V",
        "outputId": "2676c868-4d66-4179-d3d0-6bae965b8b3b"
      },
      "execution_count": 17,
      "outputs": [
        {
          "output_type": "execute_result",
          "data": {
            "text/plain": [
              "0.8275862068965517"
            ]
          },
          "metadata": {},
          "execution_count": 17
        }
      ]
    },
    {
      "cell_type": "code",
      "source": [
        "precision = precision_score(y_true, y_predicted)\n",
        "recall = recall_score(y_true, y_predicted)\n",
        "2 * (precision * recall) / (precision + recall)"
      ],
      "metadata": {
        "colab": {
          "base_uri": "https://localhost:8080/"
        },
        "id": "5oTL7HdlqYNF",
        "outputId": "47eb7ecc-f4b7-4ebc-ff51-fce60be25873"
      },
      "execution_count": 18,
      "outputs": [
        {
          "output_type": "execute_result",
          "data": {
            "text/plain": [
              "0.8275862068965517"
            ]
          },
          "metadata": {},
          "execution_count": 18
        }
      ]
    },
    {
      "cell_type": "markdown",
      "source": [
        "### Classification Report"
      ],
      "metadata": {
        "id": "MRhpND0frzrq"
      }
    },
    {
      "cell_type": "code",
      "source": [
        "print(classification_report(y_true, y_predicted))"
      ],
      "metadata": {
        "colab": {
          "base_uri": "https://localhost:8080/"
        },
        "id": "ZaqdHrCkr1su",
        "outputId": "94de32d9-fb94-4e9a-e841-e9de72a168c3"
      },
      "execution_count": 19,
      "outputs": [
        {
          "output_type": "stream",
          "name": "stdout",
          "text": [
            "              precision    recall  f1-score   support\n",
            "\n",
            "           0       0.86      0.40      0.55        15\n",
            "           1       0.73      0.96      0.83        25\n",
            "\n",
            "    accuracy                           0.75        40\n",
            "   macro avg       0.79      0.68      0.69        40\n",
            "weighted avg       0.78      0.75      0.72        40\n",
            "\n"
          ]
        }
      ]
    },
    {
      "cell_type": "code",
      "source": [
        "# pos_label is 0\n",
        "precision_0, recall_0, f1_0 = (\n",
        "    precision_score(y_true, y_predicted, pos_label=0),\n",
        "    recall_score(y_true, y_predicted, pos_label=0),\n",
        "    f1_score(y_true, y_predicted, pos_label=0)\n",
        ")\n",
        "\n",
        "precision_0, recall_0, f1_0"
      ],
      "metadata": {
        "colab": {
          "base_uri": "https://localhost:8080/"
        },
        "id": "Fas7vw-dsqkd",
        "outputId": "aa50dc09-e8a4-4bef-fabc-17b0d38f3a9f"
      },
      "execution_count": 20,
      "outputs": [
        {
          "output_type": "execute_result",
          "data": {
            "text/plain": [
              "(0.8571428571428571, 0.4, 0.5454545454545455)"
            ]
          },
          "metadata": {},
          "execution_count": 20
        }
      ]
    },
    {
      "cell_type": "code",
      "source": [
        "# pos_label is 1\n",
        "precision_1, recall_1, f1_1 = (\n",
        "    precision_score(y_true, y_predicted, pos_label=1),\n",
        "    recall_score(y_true, y_predicted, pos_label=1),\n",
        "    f1_score(y_true, y_predicted, pos_label=1)\n",
        ")\n",
        "\n",
        "precision_1, recall_1, f1_1"
      ],
      "metadata": {
        "colab": {
          "base_uri": "https://localhost:8080/"
        },
        "id": "ryR5drf8sVY4",
        "outputId": "0b912da4-96d5-4226-cd8f-4e5d54d88507"
      },
      "execution_count": 21,
      "outputs": [
        {
          "output_type": "execute_result",
          "data": {
            "text/plain": [
              "(0.7272727272727273, 0.96, 0.8275862068965517)"
            ]
          },
          "metadata": {},
          "execution_count": 21
        }
      ]
    },
    {
      "cell_type": "markdown",
      "source": [
        "### Log Loss\n",
        "\n",
        "- Sometimes, the output of a classifier is **the probability of a class instead of the label**\n",
        "    - for example, in logistic regression, the output can be the probability of customer churn\n",
        "- `log_loss` measures the peformance of a classifier where the predicted output is a probability value between 0 and 1\n",
        "- the following formula is the calculation for all rows\n",
        "\n",
        "$$\n",
        "-\\frac{1}{n}\\sum(y \\, \\times \\, \\log{(\\widehat{y})} + (1 - y) \\, \\times \\, \\log{(1 - \\widehat{y})})\n",
        "$$"
      ],
      "metadata": {
        "id": "BB0_B7GTtj62"
      }
    }
  ]
}